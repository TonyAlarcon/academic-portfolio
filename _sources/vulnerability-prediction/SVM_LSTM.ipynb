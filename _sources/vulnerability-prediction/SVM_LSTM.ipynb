{
  "cells": [
    {
      "cell_type": "markdown",
      "metadata": {},
      "source": [
        "# SVM"
      ]
    },
    {
      "cell_type": "code",
      "execution_count": null,
      "metadata": {
        "id": "AVRNRpGt4iUg"
      },
      "outputs": [],
      "source": [
        "\n",
        "import pandas as pd \n",
        "import os\n",
        "import numpy as np\n",
        "from sklearn.preprocessing import LabelEncoder,  OneHotEncoder\n",
        "import argparse\n",
        "from sklearn.metrics import accuracy_score\n",
        "from sklearn.metrics import roc_curve\n",
        "from sklearn.metrics import auc\n",
        "from sklearn import datasets, metrics\n",
        "from sklearn.model_selection import train_test_split\n",
        "from sklearn.metrics import classification_report\n",
        "import matplotlib.pyplot as plt\n",
        "from sklearn.metrics import roc_curve"
      ]
    },
    {
      "cell_type": "code",
      "execution_count": null,
      "metadata": {
        "id": "-3cdGCpO4oeC"
      },
      "outputs": [],
      "source": [
        "def load_data(path, column, rdm_state):\n",
        "    dataframe = pd.read_csv(path)\n",
        "    y = dataframe[column].astype(int) # numberize the labels i.e., tranforms True = 1, False = 0\n",
        "    print(\"Label Distribution: \")\n",
        "    print(y.value_counts())\n",
        "    y = y.values \n",
        "    X = dataframe.iloc[:, 7:]\n",
        "    num_features = len(X.columns) \n",
        "    X = X.values\n",
        "    print(\"Dataset: \")\n",
        "    print(f\"\\nShape of features: {X.shape} (# samples, # features, channel) of type {type(X)}\" )\n",
        "    print(f\"Shape of labels: {y.shape} (# samples, ) of type {type(X)}\" )\n",
        "    X_train, X_test, y_train, y_test = train_test_split(X, y, test_size=0.10, random_state=rdm_state)\n",
        "    return X_train, X_test, y_train, y_test"
      ]
    },
    {
      "cell_type": "code",
      "execution_count": null,
      "metadata": {
        "colab": {
          "base_uri": "https://localhost:8080/"
        },
        "id": "oblr0zSyAxU_",
        "outputId": "7d113b8d-4adb-4052-e7d1-f4ee3b6ad8aa"
      },
      "outputs": [
        {
          "name": "stdout",
          "output_type": "stream",
          "text": [
            "Label Distribution: \n",
            "1    1174\n",
            "0    1174\n",
            "Name: CWE-476, dtype: int64\n",
            "Dataset: \n",
            "\n",
            "Shape of features: (2348, 1533) (# samples, # features, channel) of type <class 'numpy.ndarray'>\n",
            "Shape of labels: (2348,) (# samples, ) of type <class 'numpy.ndarray'>\n"
          ]
        }
      ],
      "source": [
        "X_cwe_119_train, X_cwe_119_test, y_cwe_119_train, y_cwe_119_test = load_data('cwe_119_train.csv', 'CWE-119', 42)\n",
        "X_cwe_120_train, X_cwe_120_test, y_cwe_120_train, y_cwe_120_test = load_data('cwe_120_train.csv','CWE-120',42)\n",
        "X_cwe_469_train, X_cwe_469_test, y_cwe_469_train, y_cwe_469_test = load_data('cwe_469_train.csv','CWE-469',42)\n",
        "X_cwe_476_train, X_cwe_476_test, y_cwe_476_train, y_cwe_476_test = load_data('cwe_476_train.csv','CWE-476',42)\n",
        "X_cwe_other_train, X_cwe_other_test, y_cwe_other_train, y_cwe_other_test = load_data('cwe_other_train.csv','CWE-other',42)"
      ]
    },
    {
      "cell_type": "code",
      "execution_count": null,
      "metadata": {
        "colab": {
          "base_uri": "https://localhost:8080/"
        },
        "id": "N0BYLw1U59_-",
        "outputId": "1f65ff0b-f180-41e6-8488-9c3c06bd2552"
      },
      "outputs": [
        {
          "name": "stdout",
          "output_type": "stream",
          "text": [
            "CWE 119\n",
            "Accuracy score 0.928\n",
            "              precision    recall  f1-score   support\n",
            "\n",
            "           0       0.94      0.91      0.92       255\n",
            "           1       0.92      0.95      0.93       287\n",
            "\n",
            "    accuracy                           0.93       542\n",
            "   macro avg       0.93      0.93      0.93       542\n",
            "weighted avg       0.93      0.93      0.93       542\n",
            "\n",
            "CWE 120\n",
            "Accuracy score 0.937\n",
            "              precision    recall  f1-score   support\n",
            "\n",
            "           0       0.95      0.92      0.94       507\n",
            "           1       0.93      0.95      0.94       525\n",
            "\n",
            "    accuracy                           0.94      1032\n",
            "   macro avg       0.94      0.94      0.94      1032\n",
            "weighted avg       0.94      0.94      0.94      1032\n",
            "\n",
            "CWE 469\n",
            "Accuracy score 0.908\n",
            "              precision    recall  f1-score   support\n",
            "\n",
            "           0       0.90      0.90      0.90        30\n",
            "           1       0.91      0.91      0.91        35\n",
            "\n",
            "    accuracy                           0.91        65\n",
            "   macro avg       0.91      0.91      0.91        65\n",
            "weighted avg       0.91      0.91      0.91        65\n",
            "\n",
            "CWE 476\n",
            "Accuracy score 0.945\n",
            "              precision    recall  f1-score   support\n",
            "\n",
            "           0       0.96      0.93      0.95       122\n",
            "           1       0.93      0.96      0.94       113\n",
            "\n",
            "    accuracy                           0.94       235\n",
            "   macro avg       0.94      0.95      0.94       235\n",
            "weighted avg       0.95      0.94      0.94       235\n",
            "\n",
            "CWE other\n",
            "Accuracy score 0.949\n",
            "              precision    recall  f1-score   support\n",
            "\n",
            "           0       0.95      0.95      0.95       329\n",
            "           1       0.95      0.95      0.95       334\n",
            "\n",
            "    accuracy                           0.95       663\n",
            "   macro avg       0.95      0.95      0.95       663\n",
            "weighted avg       0.95      0.95      0.95       663\n",
            "\n"
          ]
        }
      ],
      "source": [
        "def predict_report(train_x,test_x,train_y,test_y):\n",
        "  svm_model = svm.SVC(decision_function_shape='ovo')  # ovo for classification\n",
        "  svm_model = svm_model.fit(train_x, train_y)\n",
        "  y_predict = svm_model.predict(test_x)\n",
        "  print(\"Accuracy score %.3f\" %metrics.accuracy_score(test_y, y_predict))\n",
        "  print(classification_report(test_y, y_predict))\n",
        "\n",
        "print(\"CWE 119\")\n",
        "predict_report(X_cwe_119_train, X_cwe_119_test, y_cwe_119_train, y_cwe_119_test) ##cwe 119\n",
        "print(\"CWE 120\")\n",
        "predict_report(X_cwe_120_train, X_cwe_120_test, y_cwe_120_train, y_cwe_120_test) ##cwe 120\n",
        "print(\"CWE 469\")\n",
        "predict_report(X_cwe_469_train, X_cwe_469_test, y_cwe_469_train, y_cwe_469_test) ##cwe 469\n",
        "print(\"CWE 476\")\n",
        "predict_report(X_cwe_476_train, X_cwe_476_test, y_cwe_476_train, y_cwe_476_test) ##cwe 476\n",
        "print(\"CWE other\")\n",
        "predict_report(X_cwe_other_train, X_cwe_other_test, y_cwe_other_train, y_cwe_other_test) ##cwe other"
      ]
    },
    {
      "cell_type": "code",
      "execution_count": null,
      "metadata": {
        "id": "NdNYWHc_aZQ6"
      },
      "outputs": [],
      "source": [
        "from sklearn import svm\n",
        "from sklearn import metrics\n",
        "svm_model = svm.SVC(decision_function_shape='ovo')  # ovo for classification\n",
        "svm_model = svm_model.fit(X_cwe_476_train, y_cwe_476_train)"
      ]
    },
    {
      "cell_type": "code",
      "execution_count": null,
      "metadata": {
        "colab": {
          "base_uri": "https://localhost:8080/",
          "height": 329
        },
        "id": "wRkrYhInbAP-",
        "outputId": "24bd6a86-20e9-4e07-cad5-b19ecd7aeeef"
      },
      "outputs": [
        {
          "name": "stdout",
          "output_type": "stream",
          "text": [
            "Generate a prediction\n",
            "prediction shape: (235,)\n"
          ]
        },
        {
          "data": {
            "image/png": "[encoded data removed]",
            "text/plain": [
              "<Figure size 432x288 with 1 Axes>"
            ]
          },
          "metadata": {
            "needs_background": "light"
          },
          "output_type": "display_data"
        }
      ],
      "source": [
        "def generate_roc_plot(model, x_test, y_test):\n",
        "  # Generate a prediction using model.predict() \n",
        "  # and calculate it's shape:\n",
        "  print(\"Generate a prediction\")\n",
        "  prediction = model.predict(x_test).ravel()\n",
        "  print(\"prediction shape:\", prediction.shape)\n",
        "\n",
        "  fpr_keras, tpr_keras, thresholds_keras = roc_curve(y_test, prediction)\n",
        "  auc_keras = auc(fpr_keras, tpr_keras)\n",
        "\n",
        "  #generate plot\n",
        "  plt.figure(1)\n",
        "  plt.plot([0, 1], [0, 1], 'k--')\n",
        "  plt.plot(fpr_keras, tpr_keras, label=' (area = {:.3f})'.format(auc_keras))\n",
        "  plt.xlabel('False positive rate')\n",
        "  plt.ylabel('True positive rate')\n",
        "  plt.title('ROC curve')\n",
        "  plt.legend(loc='best')\n",
        "  plt.show()\n",
        "\n",
        "  \n",
        "generate_roc_plot(svm_model, X_cwe_476_test, y_cwe_476_test)"
      ]
    },
    {
      "cell_type": "code",
      "execution_count": null,
      "metadata": {
        "id": "eEOekK0L6o0Q"
      },
      "outputs": [],
      "source": [
        "from sklearn import svm\n",
        "from sklearn import metrics\n",
        "def generate_roc_plots(x_train,y_train,x_test, y_test, names):\n",
        "    fpr, tpr, aucs = [], [], []\n",
        "    for i in range(5):\n",
        "        svm_model = svm.SVC(decision_function_shape='ovo')  # ovo for classification\n",
        "        svm_model = svm_model.fit(x_train[i], y_train[i])\n",
        "        pred = svm_model.predict(x_test[i])\n",
        "        print(\"Accuracy score %.3f\" %metrics.accuracy_score(y_test[i], pred))\n",
        "        print(classification_report(y_test[i], pred))\n",
        "        fpr_keras, tpr_keras, thresholds_keras = roc_curve(y_test[i], pred)\n",
        "        auc_keras = auc(fpr_keras, tpr_keras)\n",
        "        fpr.append(fpr_keras)\n",
        "        tpr.append(tpr_keras)\n",
        "        aucs.append(auc_keras)\n",
        "    #generate plot\n",
        "    plt.figure(figsize=(9,9))\n",
        "    plt.plot([0, 1], [0, 1], 'k--')\n",
        "    for i in range(5):\n",
        "        plt.plot(fpr[i], tpr[i], label=' {} (area = {:.3f})'.format(names[i],aucs[i]))\n",
        "    plt.xlabel('False Positive Rate')\n",
        "    plt.ylabel('True Positive Rate')\n",
        "    plt.title('ROC curve')\n",
        "    plt.legend(loc='best')\n",
        "    plt.show()"
      ]
    },
    {
      "cell_type": "code",
      "execution_count": null,
      "metadata": {
        "colab": {
          "base_uri": "https://localhost:8080/",
          "height": 567
        },
        "id": "h-Ifj1ns83gp",
        "outputId": "b69dca48-8891-4edc-9e05-ca693dbc66dc"
      },
      "outputs": [
        {
          "data": {
            "image/png": "[encoded data removed]",
            "text/plain": [
              "<Figure size 648x648 with 1 Axes>"
            ]
          },
          "metadata": {
            "needs_background": "light"
          },
          "output_type": "display_data"
        }
      ],
      "source": [
        "x_tests = [X_cwe_119_test, X_cwe_other_test, X_cwe_120_test, X_cwe_469_test, X_cwe_476_test]\n",
        "x_trains = [X_cwe_119_train,X_cwe_other_train,X_cwe_120_train,X_cwe_469_train, X_cwe_476_train]\n",
        "y_trains = [y_cwe_119_train,y_cwe_other_train,y_cwe_120_train,y_cwe_469_train,y_cwe_476_train]\n",
        "y_tests = [y_cwe_119_test, y_cwe_other_test, y_cwe_120_test, y_cwe_469_test, y_cwe_476_test]\n",
        "names = ['CWE-119', 'CWE-Oth', 'CWE-120', 'CWE-469','CWE-476']\n",
        "generate_roc_plots(x_trains,y_trains,x_tests, y_tests, names)"
      ]
    },
    {
      "cell_type": "code",
      "execution_count": null,
      "metadata": {
        "colab": {
          "base_uri": "https://localhost:8080/"
        },
        "id": "idCxIR9jBSp5",
        "outputId": "e3165488-0d93-4551-bb9e-7964859ea44b"
      },
      "outputs": [
        {
          "name": "stdout",
          "output_type": "stream",
          "text": [
            "CWE 119\n",
            "Accuracy score 0.928\n",
            "              precision    recall  f1-score   support\n",
            "\n",
            "           0       0.94      0.91      0.92       255\n",
            "           1       0.92      0.95      0.93       287\n",
            "\n",
            "    accuracy                           0.93       542\n",
            "   macro avg       0.93      0.93      0.93       542\n",
            "weighted avg       0.93      0.93      0.93       542\n",
            "\n",
            "CWE 120\n",
            "Accuracy score 0.598\n",
            "              precision    recall  f1-score   support\n",
            "\n",
            "           0       0.63      0.44      0.52       507\n",
            "           1       0.58      0.75      0.66       525\n",
            "\n",
            "    accuracy                           0.60      1032\n",
            "   macro avg       0.61      0.60      0.59      1032\n",
            "weighted avg       0.61      0.60      0.59      1032\n",
            "\n",
            "CWE 469\n",
            "Accuracy score 0.908\n",
            "              precision    recall  f1-score   support\n",
            "\n",
            "           0       0.90      0.90      0.90        30\n",
            "           1       0.91      0.91      0.91        35\n",
            "\n",
            "    accuracy                           0.91        65\n",
            "   macro avg       0.91      0.91      0.91        65\n",
            "weighted avg       0.91      0.91      0.91        65\n",
            "\n",
            "CWE 476\n",
            "Accuracy score 0.945\n",
            "              precision    recall  f1-score   support\n",
            "\n",
            "           0       0.96      0.93      0.95       122\n",
            "           1       0.93      0.96      0.94       113\n",
            "\n",
            "    accuracy                           0.94       235\n",
            "   macro avg       0.94      0.95      0.94       235\n",
            "weighted avg       0.95      0.94      0.94       235\n",
            "\n",
            "CWE other\n",
            "Accuracy score 0.949\n",
            "              precision    recall  f1-score   support\n",
            "\n",
            "           0       0.95      0.95      0.95       329\n",
            "           1       0.95      0.95      0.95       334\n",
            "\n",
            "    accuracy                           0.95       663\n",
            "   macro avg       0.95      0.95      0.95       663\n",
            "weighted avg       0.95      0.95      0.95       663\n",
            "\n"
          ]
        }
      ],
      "source": [
        "def predict_report(train_x,test_x,train_y,test_y):\n",
        "  svm_model = svm.SVC(decision_function_shape='ovo')  # ovo for classification\n",
        "  svm_model = svm_model.fit(train_x, train_y)\n",
        "  y_predict = svm_model.predict(test_x)\n",
        "  print(\"Accuracy score %.3f\" %metrics.accuracy_score(test_y, y_predict))\n",
        "  print(classification_report(test_y, y_predict))\n",
        "\n",
        "print(\"CWE 119\")\n",
        "predict_report(X_cwe_119_train, X_cwe_119_test, y_cwe_119_train, y_cwe_119_test) ##cwe 119\n",
        "print(\"CWE 120\")\n",
        "predict_report(X_cwe_120_train, X_cwe_120_test, y_cwe_120_train, y_cwe_120_test) ##cwe 120\n",
        "print(\"CWE 469\")\n",
        "predict_report(X_cwe_469_train, X_cwe_469_test, y_cwe_469_train, y_cwe_469_test) ##cwe 469\n",
        "print(\"CWE 476\")\n",
        "predict_report(X_cwe_476_train, X_cwe_476_test, y_cwe_476_train, y_cwe_476_test) ##cwe 476\n",
        "print(\"CWE other\")\n",
        "predict_report(X_cwe_other_train, X_cwe_other_test, y_cwe_other_train, y_cwe_other_test) ##cwe other"
      ]
    },
    {
      "cell_type": "code",
      "execution_count": null,
      "metadata": {
        "id": "HnQq90NK6DYr"
      },
      "outputs": [],
      "source": [
        "##LTSM"
      ]
    },
    {
      "cell_type": "code",
      "execution_count": null,
      "metadata": {
        "colab": {
          "base_uri": "https://localhost:8080/"
        },
        "id": "Z1xOs46uGiLE",
        "outputId": "c7aa3223-c4d3-4edb-b7a2-16e6c08c6066"
      },
      "outputs": [
        {
          "name": "stdout",
          "output_type": "stream",
          "text": [
            "Label Distribution: \n",
            "1    2710\n",
            "0    2710\n",
            "Name: CWE-119, dtype: int64\n",
            "Dataset: \n",
            "\n",
            "Shape of features: (5420, 1533) (# samples, # features, channel) of type <class 'numpy.ndarray'>\n",
            "Shape of labels: (5420,) (# samples, ) of type <class 'numpy.ndarray'>\n",
            "Label Distribution: \n",
            "1    5159\n",
            "0    5159\n",
            "Name: CWE-120, dtype: int64\n",
            "Dataset: \n",
            "\n",
            "Shape of features: (10318, 1533) (# samples, # features, channel) of type <class 'numpy.ndarray'>\n",
            "Shape of labels: (10318,) (# samples, ) of type <class 'numpy.ndarray'>\n",
            "Label Distribution: \n",
            "1    324\n",
            "0    324\n",
            "Name: CWE-469, dtype: int64\n",
            "Dataset: \n",
            "\n",
            "Shape of features: (648, 1533) (# samples, # features, channel) of type <class 'numpy.ndarray'>\n",
            "Shape of labels: (648,) (# samples, ) of type <class 'numpy.ndarray'>\n",
            "Label Distribution: \n",
            "1    1174\n",
            "0    1174\n",
            "Name: CWE-476, dtype: int64\n",
            "Dataset: \n",
            "\n",
            "Shape of features: (2348, 1533) (# samples, # features, channel) of type <class 'numpy.ndarray'>\n",
            "Shape of labels: (2348,) (# samples, ) of type <class 'numpy.ndarray'>\n",
            "Label Distribution: \n",
            "1    3314\n",
            "0    3314\n",
            "Name: CWE-other, dtype: int64\n",
            "Dataset: \n",
            "\n",
            "Shape of features: (6628, 1533) (# samples, # features, channel) of type <class 'numpy.ndarray'>\n",
            "Shape of labels: (6628,) (# samples, ) of type <class 'numpy.ndarray'>\n"
          ]
        }
      ],
      "source": [
        "from keras.layers import Dense, Dropout, LSTM, Embedding\n",
        "from keras.models import Sequential\n",
        "\n",
        "def load_data(path, column, rdm_state):\n",
        "    dataframe = pd.read_csv(path)\n",
        "    y = dataframe[column].astype(int) # numberize the labels i.e., tranforms True = 1, False = 0\n",
        "    print(\"Label Distribution: \")\n",
        "    print(y.value_counts())\n",
        "    y = y.values \n",
        "    X = dataframe.iloc[:, 7:]\n",
        "    num_features = len(X.columns) \n",
        "    X = X.values\n",
        "    print(\"Dataset: \")\n",
        "    print(f\"\\nShape of features: {X.shape} (# samples, # features, channel) of type {type(X)}\" )\n",
        "    print(f\"Shape of labels: {y.shape} (# samples, ) of type {type(X)}\" )\n",
        "    X_train, X_test, y_train, y_test = train_test_split(X, y, test_size=0.10, random_state=rdm_state)\n",
        "    return X,X_train, X_test, y_train, y_test\n",
        "\n",
        "x_119,X_cwe_119_train, X_cwe_119_test, y_cwe_119_train, y_cwe_119_test = load_data('cwe_119_train.csv', 'CWE-119', 42)\n",
        "x_120,X_cwe_120_train, X_cwe_120_test, y_cwe_120_train, y_cwe_120_test = load_data('cwe_120_train.csv','CWE-120',42)\n",
        "x_469,X_cwe_469_train, X_cwe_469_test, y_cwe_469_train, y_cwe_469_test = load_data('cwe_469_train.csv','CWE-469',42)\n",
        "x_476,X_cwe_476_train, X_cwe_476_test, y_cwe_476_train, y_cwe_476_test = load_data('cwe_476_train.csv','CWE-476',42)\n",
        "x_other,X_cwe_other_train, X_cwe_other_test, y_cwe_other_train, y_cwe_other_test = load_data('cwe_other_train.csv','CWE-other',42)"
      ]
    },
    {
      "cell_type": "code",
      "execution_count": null,
      "metadata": {
        "colab": {
          "base_uri": "https://localhost:8080/"
        },
        "id": "SRntvoKSW5lf",
        "outputId": "c3fdf945-1384-436e-9700-e8afe3b67ba1"
      },
      "outputs": [
        {
          "name": "stdout",
          "output_type": "stream",
          "text": [
            "Epoch 1/5\n",
            "77/77 - 99s - loss: 0.6875 - accuracy: 0.5506 - 99s/epoch - 1s/step\n",
            "Epoch 2/5\n",
            "77/77 - 95s - loss: 0.6778 - accuracy: 0.5658 - 95s/epoch - 1s/step\n",
            "Epoch 3/5\n",
            "77/77 - 95s - loss: 0.6781 - accuracy: 0.5730 - 95s/epoch - 1s/step\n",
            "Epoch 4/5\n",
            "77/77 - 96s - loss: 0.6749 - accuracy: 0.5752 - 96s/epoch - 1s/step\n",
            "Epoch 5/5\n",
            "77/77 - 97s - loss: 0.6754 - accuracy: 0.5715 - 97s/epoch - 1s/step\n",
            "Accuracy: 51.85%\n"
          ]
        }
      ],
      "source": [
        "model = Sequential()\n",
        "model.add(LSTM(100, activation='tanh',input_shape=(x_119.shape[1],1)))\n",
        "model.add(Dense(1,activation='sigmoid'))\n",
        "model.compile(optimizer='adam',loss='binary_crossentropy',metrics=['accuracy'])\n",
        "model.fit(X_cwe_119_train, y_cwe_119_train,epochs=5,batch_size=64,verbose=2)\n",
        "scores = model.evaluate(X_cwe_119_test, y_cwe_119_test, verbose=0)\n",
        "print(\"Accuracy: %.2f%%\" % (scores[1]*100))"
      ]
    },
    {
      "cell_type": "code",
      "execution_count": null,
      "metadata": {
        "colab": {
          "background_save": true,
          "base_uri": "https://localhost:8080/"
        },
        "id": "Mkj06v2Cg_yb",
        "outputId": "6c3f3031-b966-4abe-c322-c65ce818b5c0"
      },
      "outputs": [
        {
          "name": "stdout",
          "output_type": "stream",
          "text": [
            "Epoch 1/5\n",
            "146/146 - 185s - loss: 0.6766 - accuracy: 0.5866 - 185s/epoch - 1s/step\n",
            "Epoch 2/5\n",
            "146/146 - 181s - loss: 0.6699 - accuracy: 0.5947 - 181s/epoch - 1s/step\n",
            "Epoch 3/5\n",
            "146/146 - 181s - loss: 0.6707 - accuracy: 0.5935 - 181s/epoch - 1s/step\n",
            "Epoch 4/5\n",
            "146/146 - 185s - loss: 0.6696 - accuracy: 0.5905 - 185s/epoch - 1s/step\n",
            "Epoch 5/5\n",
            "146/146 - 181s - loss: 0.6693 - accuracy: 0.5937 - 181s/epoch - 1s/step\n",
            "Accuracy: 57.66%\n"
          ]
        }
      ],
      "source": [
        "model = Sequential()\n",
        "model.add(LSTM(100, activation='tanh',input_shape=(x_120.shape[1],1)))\n",
        "model.add(Dense(1,activation='sigmoid'))\n",
        "model.compile(optimizer='adam',loss='binary_crossentropy',metrics=['accuracy'])\n",
        "model.fit(X_cwe_120_train, y_cwe_120_train,epochs=5,batch_size=64,verbose=2)\n",
        "scores = model.evaluate(X_cwe_120_test, y_cwe_120_test, verbose=0)\n",
        "print(\"Accuracy: %.2f%%\" % (scores[1]*100))"
      ]
    },
    {
      "cell_type": "code",
      "execution_count": null,
      "metadata": {
        "colab": {
          "background_save": true,
          "base_uri": "https://localhost:8080/"
        },
        "id": "jE6UEg46jWKB",
        "outputId": "e9262d92-5f45-4156-f1ac-9528ed940966"
      },
      "outputs": [
        {
          "name": "stdout",
          "output_type": "stream",
          "text": [
            "Epoch 1/5\n",
            "10/10 - 18s - loss: 0.6922 - accuracy: 0.5472 - 18s/epoch - 2s/step\n",
            "Epoch 2/5\n",
            "10/10 - 18s - loss: 0.6799 - accuracy: 0.5746 - 18s/epoch - 2s/step\n",
            "Epoch 3/5\n",
            "10/10 - 12s - loss: 0.7045 - accuracy: 0.6123 - 12s/epoch - 1s/step\n",
            "Epoch 4/5\n",
            "10/10 - 12s - loss: 0.6837 - accuracy: 0.5437 - 12s/epoch - 1s/step\n",
            "Epoch 5/5\n",
            "10/10 - 12s - loss: 0.6865 - accuracy: 0.5146 - 12s/epoch - 1s/step\n",
            "Accuracy: 47.69%\n"
          ]
        }
      ],
      "source": [
        "model = Sequential()\n",
        "model.add(LSTM(100, activation='tanh',input_shape=(x_469.shape[1],1)))\n",
        "model.add(Dense(1,activation='sigmoid'))\n",
        "model.compile(optimizer='adam',loss='binary_crossentropy',metrics=['accuracy'])\n",
        "model.fit(X_cwe_469_train, y_cwe_469_train,epochs=5,batch_size=64,verbose=2)\n",
        "scores = model.evaluate(X_cwe_469_test, y_cwe_469_test, verbose=0)\n",
        "print(\"Accuracy: %.2f%%\" % (scores[1]*100))"
      ]
    },
    {
      "cell_type": "code",
      "execution_count": null,
      "metadata": {
        "colab": {
          "background_save": true,
          "base_uri": "https://localhost:8080/"
        },
        "id": "hF_qphrWjf9A",
        "outputId": "c20a349c-219a-4173-dd7c-047283910ad2"
      },
      "outputs": [
        {
          "name": "stdout",
          "output_type": "stream",
          "text": [
            "Epoch 1/5\n"
          ]
        }
      ],
      "source": [
        "model = Sequential()\n",
        "model.add(LSTM(100, activation='tanh',input_shape=(x_476.shape[1],1)))\n",
        "model.add(Dense(1,activation='sigmoid'))\n",
        "model.compile(optimizer='adam',loss='binary_crossentropy',metrics=['accuracy'])\n",
        "model.fit(X_cwe_476_train, y_cwe_476_train,epochs=5,batch_size=64,verbose=2)\n",
        "scores = model.evaluate(X_cwe_476_test, y_cwe_476_test, verbose=0)\n",
        "print(\"Accuracy: %.2f%%\" % (scores[1]*100))"
      ]
    },
    {
      "cell_type": "code",
      "execution_count": null,
      "metadata": {
        "colab": {
          "background_save": true
        },
        "id": "990GYCTNjmPO",
        "outputId": "42e5f3ac-76ff-4d02-fdc0-74a01764a2fb"
      },
      "outputs": [
        {
          "name": "stdout",
          "output_type": "stream",
          "text": [
            "Epoch 1/5\n",
            "94/94 - 120s - loss: 0.6971 - accuracy: 0.5128 - 120s/epoch - 1s/step\n",
            "Epoch 2/5\n",
            "94/94 - 118s - loss: 0.6909 - accuracy: 0.5153 - 118s/epoch - 1s/step\n",
            "Epoch 3/5\n",
            "94/94 - 117s - loss: 0.6840 - accuracy: 0.5497 - 117s/epoch - 1s/step\n",
            "Epoch 4/5\n",
            "94/94 - 118s - loss: 0.6798 - accuracy: 0.5656 - 118s/epoch - 1s/step\n",
            "Epoch 5/5\n",
            "94/94 - 118s - loss: 0.6785 - accuracy: 0.5648 - 118s/epoch - 1s/step\n",
            "Accuracy: 56.26%\n"
          ]
        }
      ],
      "source": [
        "model = Sequential()\n",
        "model.add(LSTM(100, activation='tanh',input_shape=(x_other.shape[1],1)))\n",
        "model.add(Dense(1,activation='sigmoid'))\n",
        "model.compile(optimizer='adam',loss='binary_crossentropy',metrics=['accuracy'])\n",
        "model.fit(X_cwe_other_train, y_cwe_other_train,epochs=5,batch_size=64,verbose=2)\n",
        "scores = model.evaluate(X_cwe_other_test, y_cwe_other_test, verbose=0)\n",
        "print(\"Accuracy: %.2f%%\" % (scores[1]*100))"
      ]
    }
  ],
  "metadata": {
    "colab": {
      "collapsed_sections": [],
      "name": "SVM_LTSM.ipynb",
      "provenance": []
    },
    "interpreter": {
      "hash": "92829e2fac57cbff12d0f5f666c000e50d10f2158a7e425f09180d35edebd327"
    },
    "kernelspec": {
      "display_name": "Python 3.8.8 ('base')",
      "language": "python",
      "name": "python3"
    },
    "language_info": {
      "name": "python",
      "version": "3.8.8"
    }
  },
  "nbformat": 4,
  "nbformat_minor": 0
}
