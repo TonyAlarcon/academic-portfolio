{
 "cells": [
  {
   "cell_type": "markdown",
   "metadata": {},
   "source": [
    "# Particle Accelerator Simulation"
   ]
  },
  {
   "cell_type": "markdown",
   "metadata": {},
   "source": [
    "Cyclotron and isochronous cyclotron particle accelerator sumilations. Implemented object-oriented \n",
    "methodology to resemblesubatomic particles and utilized the Runge-Kutta 4th order integration \n",
    "algorithm to solve electromagnetic differential equations and gather data of interest. Dynamic \n",
    "attribute updates allowed the model to accurately resemble relativistic principles and effects. "
   ]
  },
  {
   "cell_type": "markdown",
   "metadata": {},
   "source": [
    "A cyclotron, invented by Ernest O. Lawrence in 1934, is one of the earliest types of particle \n",
    "accelerators that utilizes electromagnetic fields to accelerate charged particles to extreme \n",
    "velocities [1]. A static magnetic field is applied inside two ”D-shaped” regions called dees,\n",
    "which serves to keep the particle in a semi-circular path due to Lorentz Force."
   ]
  },
  {
   "cell_type": "markdown",
   "metadata": {},
   "source": [
    "As the particle reaches a gap between the dees, it is accelerated by a rapidly varying electric \n",
    "field that increases both the particle’s velocity and radius. Each time the particle crosses a \n",
    "gap, the polarity of the electric field reverses to accelerate the particle in the correct direction. \n",
    "In order to properly time the polarity reversal, it is necessary for the electric field to be tuned \n",
    "to the cyclotron resonance. By equating the magnetic Lorentz force with the centripetal force and \n",
    "making the proper substitutions, one obtains the gyrofrequency"
   ]
  },
  {
   "cell_type": "markdown",
   "metadata": {},
   "source": [
    "where q, B and m is the particle-charge, magnetic-field strength, and particle-mass, respectively. \n",
    "It is important to note that the gyrofrequency is independent of both the radius and velocity, \n",
    "and is thus contant over a static magnetic field. The resulting particle trajectory is an outward\n",
    "spiral starting from the center of the cyclotron, as shown in figure 1."
   ]
  },
  {
   "cell_type": "markdown",
   "metadata": {},
   "source": [
    "The cyclotron accelerator shown above utilizes a magnetic field with strength |B| = 1.5 T, pointing\n",
    "along the y-direction and a square-wave electric field with strength |E| = 5,000,000 N·C−1 in the\n",
    "x-direction. The proton is injected at the center with initial velocity equal to 5% the speed of \n",
    "light and begins its spiral trajectory at a gyrofrequency equal to f = 22.87 MHz. The proton crosses \n",
    "the gap 46 times, that is to say, the iproton velocity (and hence energy) is increased a total number \n",
    "of 46 times before it is ejected. At the final jump, the particle is ejected with a final velocity of \n",
    "vf = 50, 196, 499 m/s — 16.7 % the speed of light — in a time of t = 1.09 μs, as shown in figure 2. \n",
    "The particle trajectory and velocity were computed using the Runge-Kutta 4th order numerical technique."
   ]
  },
  {
   "cell_type": "markdown",
   "metadata": {},
   "source": [
    "The gyrofrequency may also be obtained from experimental data from the particle, since velocity is \n",
    "proportional to the gyrofrequency and radius in the following manner"
   ]
  },
  {
   "cell_type": "markdown",
   "metadata": {},
   "source": [
    "Therefore, plotting a graph of velocity as a function of radius gives a straight line with slope of 2πf. \n",
    "This allows a measurement of cyclotron frequency directly from real data. This plot is demonstrated in figure 3."
   ]
  }
 ],
 "metadata": {
  "interpreter": {
   "hash": "92829e2fac57cbff12d0f5f666c000e50d10f2158a7e425f09180d35edebd327"
  },
  "kernelspec": {
   "display_name": "Python 3.8.8 ('base')",
   "language": "python",
   "name": "python3"
  },
  "language_info": {
   "name": "python",
   "version": "3.8.8"
  },
  "orig_nbformat": 4
 },
 "nbformat": 4,
 "nbformat_minor": 2
}
