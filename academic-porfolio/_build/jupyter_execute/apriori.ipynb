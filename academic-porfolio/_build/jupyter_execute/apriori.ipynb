{
 "cells": [
  {
   "cell_type": "markdown",
   "metadata": {},
   "source": [
    "# Apriori Algorithm"
   ]
  },
  {
   "cell_type": "code",
   "execution_count": 1,
   "metadata": {},
   "outputs": [],
   "source": [
    "TDB = [['a','b'],\n",
    "       ['b','c','d'],\n",
    "       ['a','c','d','e'],\n",
    "       ['a','d','e'],\n",
    "       ['a','b','c'],\n",
    "       ['a','b','c','d'],\n",
    "       ['a'],\n",
    "       ['a','b','c'],\n",
    "       ['a','b','d'],\n",
    "       ['b','c','e']]\n",
    "\n",
    "min_sup = 2"
   ]
  },
  {
   "cell_type": "code",
   "execution_count": 2,
   "metadata": {},
   "outputs": [],
   "source": [
    "from collections import Counter\n",
    "\n",
    "class Apriori:\n",
    "\n",
    "    def getCandidateOne(self, TDB):\n",
    "        temp = []\n",
    "        candidateSet = set()\n",
    "        for transaction in TDB: #parses all transaction int Database\n",
    "            for item in transaction: #parses all item in a parituclar treansaction \n",
    "                if item not in temp: #if the item is not in the candidate one list, we append\n",
    "                    temp.append(item)\n",
    "                    candidateSet.add(frozenset(item))\n",
    "\n",
    "\n",
    "        return candidateSet\n",
    "\n",
    "\n",
    "    def getCandidateSet(self, frequentSet, length_k):\n",
    "        candidateSet = set()\n",
    "        frequentSetList = list(frequentSet)\n",
    "\n",
    "        for i in range(0, len(frequentSetList)):\n",
    "            for j in range(i+1, len(frequentSetList)):\n",
    "                itemset = frequentSetList[i].union(frequentSetList[j])\n",
    "                if len(itemset) == length_k:\n",
    "                    candidateSet.add(itemset)\n",
    "\n",
    "        return candidateSet\n",
    "\n",
    "    def getFrequentSet(self, candidateSet, TDB, minSup):\n",
    "        candidateSetList = list(candidateSet)\n",
    "        candidateSetWithSupport = Counter()\n",
    "        frequentSetWithSupport = Counter()\n",
    "\n",
    "        for itemset in candidateSetList:\n",
    "            for transaction in TDB:\n",
    "                transactionSet = set(transaction)\n",
    "                if itemset.issubset(transaction):\n",
    "                    candidateSetWithSupport[itemset] += 1\n",
    "\n",
    "        for i in candidateSetWithSupport:\n",
    "            if(candidateSetWithSupport[i] >= minSup):\n",
    "                frequentSetWithSupport[i] += candidateSetWithSupport[i]\n",
    "\n",
    "        return frequentSetWithSupport\n",
    "    \n",
    "\n",
    "\n",
    "    def printResults(self, frequentset, k):\n",
    "        print(k-1,'- itemset:')\n",
    "        for i in frequentset:\n",
    "            print(str(list(i)) + \":\" + str(frequentset[i]))\n",
    "\n",
    "\n",
    "    def compute(self, TDB, minSup):\n",
    "        candidate_one = self.getCandidateOne(TDB)\n",
    "        frequent_one = self.getFrequentSet(candidate_one, TDB, minSup)\n",
    "    \n",
    "        currentFrequent = frequent_one\n",
    "        k = 2\n",
    "\n",
    "        while(len(currentFrequent) != 0 ):\n",
    "            self.printResults(currentFrequent, k)\n",
    "\n",
    "\n",
    "            candidateSet = self.getCandidateSet(currentFrequent, k)\n",
    "            currentFrequent = self.getFrequentSet(candidateSet, TDB, minSup)\n",
    "\n",
    "            k += 1\n"
   ]
  },
  {
   "cell_type": "code",
   "execution_count": 3,
   "metadata": {},
   "outputs": [
    {
     "name": "stdout",
     "output_type": "stream",
     "text": [
      "1 - itemset:\n",
      "['a']:8\n",
      "['e']:3\n",
      "['c']:6\n",
      "['b']:7\n",
      "['d']:5\n",
      "2 - itemset:\n",
      "['a', 'b']:5\n",
      "['c', 'a']:4\n",
      "['a', 'd']:4\n",
      "['c', 'e']:2\n",
      "['c', 'd']:3\n",
      "['d', 'b']:3\n",
      "['c', 'b']:5\n",
      "['e', 'd']:2\n",
      "['e', 'a']:2\n",
      "3 - itemset:\n",
      "['c', 'b', 'd']:2\n",
      "['d', 'a', 'b']:2\n",
      "['c', 'a', 'b']:3\n",
      "['e', 'a', 'd']:2\n",
      "['c', 'a', 'd']:2\n"
     ]
    }
   ],
   "source": [
    "model = Apriori()\n",
    "model.compute(TDB, 2)"
   ]
  }
 ],
 "metadata": {
  "interpreter": {
   "hash": "562eef4a7f95517d389686c6a55949423e94afa671dc5db34ab542932aca05ea"
  },
  "kernelspec": {
   "display_name": "Python 3.8.13 ('qe-mini-example')",
   "language": "python",
   "name": "python3"
  },
  "language_info": {
   "codemirror_mode": {
    "name": "ipython",
    "version": 3
   },
   "file_extension": ".py",
   "mimetype": "text/x-python",
   "name": "python",
   "nbconvert_exporter": "python",
   "pygments_lexer": "ipython3",
   "version": "3.8.13"
  }
 },
 "nbformat": 4,
 "nbformat_minor": 2
}