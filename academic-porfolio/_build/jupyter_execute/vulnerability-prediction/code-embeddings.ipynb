{
 "cells": [
  {
   "cell_type": "markdown",
   "metadata": {},
   "source": [
    "# Source Code Embeddings"
   ]
  }
 ],
 "metadata": {
  "interpreter": {
   "hash": "92829e2fac57cbff12d0f5f666c000e50d10f2158a7e425f09180d35edebd327"
  },
  "kernelspec": {
   "display_name": "Python 3.8.8 ('base')",
   "language": "python",
   "name": "python3"
  },
  "language_info": {
   "name": "python",
   "version": "3.8.8"
  }
 },
 "nbformat": 4,
 "nbformat_minor": 2
}