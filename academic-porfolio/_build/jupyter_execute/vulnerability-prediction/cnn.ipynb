{
 "cells": [
  {
   "cell_type": "markdown",
   "metadata": {},
   "source": [
    "# CNN"
   ]
  },
  {
   "cell_type": "code",
   "execution_count": 1,
   "metadata": {
    "executionInfo": {
     "elapsed": 6,
     "status": "ok",
     "timestamp": 1651766505046,
     "user": {
      "displayName": "Pedro Alarcon Granadeno",
      "userId": "03221847207112830166"
     },
     "user_tz": 240
    },
    "id": "6YuBhXbLI-gr"
   },
   "outputs": [],
   "source": [
    "# University of Notre Dame\n",
    "# Multi Layer Perceptron (MLP) for \"Vulnerability Prediction From Source Code Using Machine Learning\"\n",
    "# _________________________________________________________________________\n",
    "# Pedro Alarcon, April 2022"
   ]
  },
  {
   "cell_type": "code",
   "execution_count": 4,
   "metadata": {
    "colab": {
     "base_uri": "https://localhost:8080/"
    },
    "executionInfo": {
     "elapsed": 79,
     "status": "ok",
     "timestamp": 1651766763752,
     "user": {
      "displayName": "Pedro Alarcon Granadeno",
      "userId": "03221847207112830166"
     },
     "user_tz": 240
    },
    "id": "XbSfMy9IIWz_",
    "outputId": "4abd28df-addd-4709-99bd-470af4cc31ad"
   },
   "outputs": [
    {
     "name": "stdout",
     "output_type": "stream",
     "text": [
      "/content\n"
     ]
    }
   ],
   "source": [
    "import pandas as pd \n",
    "import numpy as np\n",
    "import argparse\n",
    "import math\n",
    "import string\n",
    "from collections.abc import Iterable\n",
    "from collections import Counter\n",
    "import pandas as pd \n",
    "\n",
    "from sklearn.preprocessing import LabelEncoder,  OneHotEncoder\n",
    "import argparse\n",
    "from sklearn.metrics import accuracy_score\n",
    "\n",
    "from tensorflow import keras\n",
    "from keras.models import Sequential\n",
    "from keras.layers import Dense, Conv1D, Flatten\n",
    "\n",
    "from sklearn.metrics import roc_curve\n",
    "from sklearn.metrics import auc\n",
    "from sklearn import datasets, metrics\n",
    "from sklearn.model_selection import train_test_split\n",
    "from sklearn.linear_model import LogisticRegression\n",
    "from sklearn.metrics import average_precision_score, precision_recall_curve\n",
    "from sklearn.metrics import auc, plot_precision_recall_curve\n",
    "import matplotlib.pyplot as plt\n",
    "from matplotlib import pyplot\n",
    "from sklearn.metrics import classification_report\n",
    "import os\n",
    "from sklearn.model_selection import train_test_split\n",
    "print(os.getcwd())"
   ]
  },
  {
   "cell_type": "code",
   "execution_count": 3,
   "metadata": {
    "colab": {
     "base_uri": "https://localhost:8080/"
    },
    "executionInfo": {
     "elapsed": 18717,
     "status": "ok",
     "timestamp": 1651766546189,
     "user": {
      "displayName": "Pedro Alarcon Granadeno",
      "userId": "03221847207112830166"
     },
     "user_tz": 240
    },
    "id": "-5jhRwBEQkLK",
    "outputId": "5c464110-08f2-4db0-a6a7-c1b8c4047e72"
   },
   "outputs": [
    {
     "name": "stdout",
     "output_type": "stream",
     "text": [
      "Mounted at /content/drive\n"
     ]
    }
   ],
   "source": [
    "from google.colab import drive\n",
    "drive.mount('/content/drive')"
   ]
  },
  {
   "cell_type": "markdown",
   "metadata": {
    "id": "DbZRIrgQ7isE"
   },
   "source": [
    "# Impact of Depth Analysis"
   ]
  },
  {
   "cell_type": "code",
   "execution_count": 6,
   "metadata": {
    "colab": {
     "base_uri": "https://localhost:8080/"
    },
    "executionInfo": {
     "elapsed": 1884,
     "status": "ok",
     "timestamp": 1651766826191,
     "user": {
      "displayName": "Pedro Alarcon Granadeno",
      "userId": "03221847207112830166"
     },
     "user_tz": 240
    },
    "id": "Jd6bNZdl7Ygx",
    "outputId": "07c8c607-b29d-4704-fe17-8cdffda1ee9b"
   },
   "outputs": [
    {
     "name": "stdout",
     "output_type": "stream",
     "text": [
      "Label Distribution: \n",
      "1    2710\n",
      "0    2710\n",
      "Name: CWE-119, dtype: int64\n",
      "Dataset: \n",
      "\n",
      "Shape of features: (5420, 1533, 1) (# samples, # features, channel) of type <class 'numpy.ndarray'>\n",
      "Shape of labels: (5420,) (# samples, ) of type <class 'numpy.ndarray'>\n"
     ]
    }
   ],
   "source": [
    "#folder_path = '/scratch365/palarcon/Vulnerability Project/CNN/train/'\n",
    "\n",
    "folder_path = '/content/drive/MyDrive/Vulnerability Prediction/Processed Datasets/'\n",
    "\n",
    "def load_data(path, column, rdm_state):\n",
    "    dataframe = pd.read_csv(path)\n",
    "    \n",
    "    y = dataframe[column].astype(int) # numberize the labels i.e., tranforms True = 1, False = 0\n",
    "    print(\"Label Distribution: \")\n",
    "    print(y.value_counts())\n",
    "\n",
    "    y = y.values \n",
    "    \n",
    "    X = dataframe.iloc[:, 7:]\n",
    "    num_features = len(X.columns) \n",
    "    X = X.values\n",
    "\n",
    "    X = np.reshape(X, (len(X), num_features, 1)) \n",
    "\n",
    "\n",
    "    print(\"Dataset: \")\n",
    "    print(f\"\\nShape of features: {X.shape} (# samples, # features, channel) of type {type(X)}\" )\n",
    "    print(f\"Shape of labels: {y.shape} (# samples, ) of type {type(X)}\" )\n",
    "    \n",
    "    \n",
    "    X_train, X_test, y_train, y_test = train_test_split(X, y, test_size=0.10, random_state=rdm_state)\n",
    "\n",
    "    return X_train, X_test, y_train, y_test\n",
    "\n",
    "\n",
    "\n",
    "\n",
    "X_cwe_119_train, X_cwe_119_test, y_cwe_119_train, y_cwe_119_test = load_data(folder_path + 'cwe_119_train.csv', 'CWE-119', 42)\n"
   ]
  },
  {
   "cell_type": "code",
   "execution_count": 12,
   "metadata": {
    "colab": {
     "base_uri": "https://localhost:8080/"
    },
    "executionInfo": {
     "elapsed": 187,
     "status": "ok",
     "timestamp": 1651766967711,
     "user": {
      "displayName": "Pedro Alarcon Granadeno",
      "userId": "03221847207112830166"
     },
     "user_tz": 240
    },
    "id": "PCnomFTp9JB9",
    "outputId": "e94c18ba-4d5a-4199-dc7b-e603896e2571"
   },
   "outputs": [
    {
     "name": "stdout",
     "output_type": "stream",
     "text": [
      "Model: \"sequential\"\n",
      "_________________________________________________________________\n",
      " Layer (type)                Output Shape              Param #   \n",
      "=================================================================\n",
      " conv1d (Conv1D)             (None, 1525, 32)          320       \n",
      "                                                                 \n",
      " flatten (Flatten)           (None, 48800)             0         \n",
      "                                                                 \n",
      " dense (Dense)               (None, 200)               9760200   \n",
      "                                                                 \n",
      " dense_1 (Dense)             (None, 1)                 201       \n",
      "                                                                 \n",
      "=================================================================\n",
      "Total params: 9,760,721\n",
      "Trainable params: 9,760,721\n",
      "Non-trainable params: 0\n",
      "_________________________________________________________________\n"
     ]
    }
   ],
   "source": [
    "def cnn_model(num_features):\n",
    "  model = Sequential()\n",
    "  #add layers\n",
    "  model.add(Conv1D( input_shape = (num_features, 1), filters=32, kernel_size=9, activation='relu'))\n",
    "  model.add(Flatten())\n",
    "  model.add(Dense(200, activation = 'relu'))\n",
    "  model.add((Dense(1, activation='sigmoid')))\n",
    "  model.summary()\n",
    "  model.compile(loss='binary_crossentropy', optimizer='adam', metrics=['accuracy'])\n",
    "\n",
    "  return model\n",
    "\n",
    "cwe_119_model = cnn_model(1533)\n",
    "#load trained model\n",
    "cwe_119_model = keras.models.load_model('/content/drive/MyDrive/Vulnerability Prediction/CNN/cwe_119_model.ph')"
   ]
  },
  {
   "cell_type": "code",
   "execution_count": null,
   "metadata": {
    "colab": {
     "base_uri": "https://localhost:8080/"
    },
    "id": "slYB2OJ4Bc8P",
    "outputId": "56a3e1b2-c555-4412-890c-9e6fde1cb607"
   },
   "outputs": [
    {
     "name": "stdout",
     "output_type": "stream",
     "text": [
      "Epoch 1/10\n",
      "153/153 - 1s - loss: 0.2846 - accuracy: 0.9026 - 652ms/epoch - 4ms/step\n",
      "Epoch 2/10\n",
      "153/153 - 1s - loss: 0.2657 - accuracy: 0.9116 - 694ms/epoch - 5ms/step\n",
      "Epoch 3/10\n",
      "153/153 - 1s - loss: 0.2452 - accuracy: 0.9170 - 663ms/epoch - 4ms/step\n",
      "Epoch 4/10\n",
      "153/153 - 1s - loss: 0.1978 - accuracy: 0.9307 - 659ms/epoch - 4ms/step\n",
      "Epoch 5/10\n",
      "153/153 - 1s - loss: 0.2251 - accuracy: 0.9196 - 654ms/epoch - 4ms/step\n",
      "Epoch 6/10\n",
      "153/153 - 1s - loss: 0.2132 - accuracy: 0.9278 - 656ms/epoch - 4ms/step\n",
      "Epoch 7/10\n",
      "153/153 - 1s - loss: 0.1913 - accuracy: 0.9317 - 666ms/epoch - 4ms/step\n",
      "Epoch 8/10\n",
      "153/153 - 1s - loss: 0.1764 - accuracy: 0.9387 - 658ms/epoch - 4ms/step\n",
      "Epoch 9/10\n",
      "153/153 - 1s - loss: 0.1627 - accuracy: 0.9434 - 642ms/epoch - 4ms/step\n",
      "Epoch 10/10\n",
      "153/153 - 1s - loss: 0.1545 - accuracy: 0.9512 - 670ms/epoch - 4ms/step\n"
     ]
    }
   ],
   "source": [
    "# fit network\n",
    "#uncomment the below statement to train new model \n",
    "#history = cwe_119_model.fit(X_cwe_119_train, y_cwe_119_train, epochs=10, verbose=2)"
   ]
  },
  {
   "cell_type": "code",
   "execution_count": 23,
   "metadata": {
    "colab": {
     "base_uri": "https://localhost:8080/"
    },
    "executionInfo": {
     "elapsed": 1124,
     "status": "ok",
     "timestamp": 1651767243171,
     "user": {
      "displayName": "Pedro Alarcon Granadeno",
      "userId": "03221847207112830166"
     },
     "user_tz": 240
    },
    "id": "9KUeSR64FWG_",
    "outputId": "0a291a68-98ee-49b7-9871-be641b7611f6"
   },
   "outputs": [
    {
     "name": "stdout",
     "output_type": "stream",
     "text": [
      "Test Accuracy: 91.32841229438782\n"
     ]
    }
   ],
   "source": [
    "def run_acccuracy(model, X, y):\n",
    "  loss, acc = model.evaluate(X, y, verbose=0)\n",
    "  print(f'Test Accuracy: {acc*100}')\n",
    "\n",
    "\n",
    "run_acccuracy(cwe_119_model,X_cwe_119_test, y_cwe_119_test)"
   ]
  },
  {
   "cell_type": "code",
   "execution_count": 9,
   "metadata": {
    "executionInfo": {
     "elapsed": 108,
     "status": "ok",
     "timestamp": 1651766897423,
     "user": {
      "displayName": "Pedro Alarcon Granadeno",
      "userId": "03221847207112830166"
     },
     "user_tz": 240
    },
    "id": "E3WSrW9zHCJd"
   },
   "outputs": [],
   "source": [
    "def generate_roc_plot(model, x_test, y_test):\n",
    "  # Generate a prediction using model.predict() \n",
    "  # and calculate it's shape:\n",
    "  print(\"Generate a prediction\")\n",
    "  prediction = model.predict(x_test).ravel()\n",
    "  print(\"prediction shape:\", prediction.shape)\n",
    "\n",
    "  fpr_keras, tpr_keras, thresholds_keras = roc_curve(y_test, prediction)\n",
    "  auc_keras = auc(fpr_keras, tpr_keras)\n",
    "\n",
    "  #generate plot\n",
    "  plt.figure(1)\n",
    "  plt.plot([0, 1], [0, 1], 'k--')\n",
    "  plt.plot(fpr_keras, tpr_keras, label=' (area = {:.3f})'.format(auc_keras))\n",
    "  plt.xlabel('False positive rate')\n",
    "  plt.ylabel('True positive rate')\n",
    "  plt.title('ROC curve')\n",
    "  plt.legend(loc='best')\n",
    "  plt.show()"
   ]
  },
  {
   "cell_type": "code",
   "execution_count": 10,
   "metadata": {
    "colab": {
     "base_uri": "https://localhost:8080/",
     "height": 329
    },
    "executionInfo": {
     "elapsed": 775,
     "status": "ok",
     "timestamp": 1651766900997,
     "user": {
      "displayName": "Pedro Alarcon Granadeno",
      "userId": "03221847207112830166"
     },
     "user_tz": 240
    },
    "id": "3EEgMyOvILRX",
    "outputId": "65c03407-0554-4b88-8234-1238e5dbac0b"
   },
   "outputs": [
    {
     "name": "stdout",
     "output_type": "stream",
     "text": [
      "Generate a prediction\n",
      "prediction shape: (542,)\n"
     ]
    },
    {
     "data": {
      "image/png": "[encoded data removed]",
      "text/plain": [
       "<Figure size 432x288 with 1 Axes>"
      ]
     },
     "metadata": {
      "filenames": {
       "image/png": "/Users/tonyalarcon/sp22-paradigms/academic-portfolio/academic-porfolio/_build/jupyter_execute/vulnerability-prediction/CNN_10_1.png"
      },
      "needs_background": "light"
     },
     "output_type": "display_data"
    }
   ],
   "source": [
    "generate_roc_plot(cwe_119_model,X_cwe_119_test, y_cwe_119_test)"
   ]
  },
  {
   "cell_type": "code",
   "execution_count": null,
   "metadata": {
    "id": "qf4gnchH9DQk",
    "outputId": "b2654664-ca31-49e8-f15d-ce2030b401eb"
   },
   "outputs": [
    {
     "name": "stderr",
     "output_type": "stream",
     "text": [
      "2022-04-19 19:41:32.002823: W tensorflow/python/util/util.cc:368] Sets are not currently considered sequences, but this may change in the future, so consider avoiding using them.\n"
     ]
    },
    {
     "name": "stdout",
     "output_type": "stream",
     "text": [
      "INFO:tensorflow:Assets written to: /scratch365/palarcon/Vulnerability Project/CNN/cwe_119_model.ph/assets\n"
     ]
    }
   ],
   "source": [
    "#cwe_119_model.save('/scratch365/palarcon/Vulnerability Project/CNN/cwe_119_model.ph')"
   ]
  },
  {
   "cell_type": "markdown",
   "metadata": {
    "id": "_dNXmF3PlejX"
   },
   "source": [
    "# CWE-120"
   ]
  },
  {
   "cell_type": "code",
   "execution_count": 13,
   "metadata": {
    "colab": {
     "base_uri": "https://localhost:8080/"
    },
    "executionInfo": {
     "elapsed": 2249,
     "status": "ok",
     "timestamp": 1651766974993,
     "user": {
      "displayName": "Pedro Alarcon Granadeno",
      "userId": "03221847207112830166"
     },
     "user_tz": 240
    },
    "id": "prK2WWOyKFeZ",
    "outputId": "92dff8d8-25ff-4370-88e7-999e01b18586"
   },
   "outputs": [
    {
     "name": "stdout",
     "output_type": "stream",
     "text": [
      "Label Distribution: \n",
      "1    5159\n",
      "0    5159\n",
      "Name: CWE-120, dtype: int64\n",
      "Dataset: \n",
      "\n",
      "Shape of features: (10318, 1533, 1) (# samples, # features, channel) of type <class 'numpy.ndarray'>\n",
      "Shape of labels: (10318,) (# samples, ) of type <class 'numpy.ndarray'>\n",
      "Model: \"sequential_1\"\n",
      "_________________________________________________________________\n",
      " Layer (type)                Output Shape              Param #   \n",
      "=================================================================\n",
      " conv1d_1 (Conv1D)           (None, 1525, 32)          320       \n",
      "                                                                 \n",
      " flatten_1 (Flatten)         (None, 48800)             0         \n",
      "                                                                 \n",
      " dense_2 (Dense)             (None, 200)               9760200   \n",
      "                                                                 \n",
      " dense_3 (Dense)             (None, 1)                 201       \n",
      "                                                                 \n",
      "=================================================================\n",
      "Total params: 9,760,721\n",
      "Trainable params: 9,760,721\n",
      "Non-trainable params: 0\n",
      "_________________________________________________________________\n"
     ]
    }
   ],
   "source": [
    "X_cwe_120_train, X_cwe_120_test, y_cwe_120_train, y_cwe_120_test = load_data(folder_path + 'cwe_120_train.csv', 'CWE-120', 45)\n",
    "cwe_120_model = cnn_model(1533)\n",
    "# fit network\n",
    "\n",
    "\n"
   ]
  },
  {
   "cell_type": "code",
   "execution_count": null,
   "metadata": {
    "colab": {
     "base_uri": "https://localhost:8080/",
     "height": 1000
    },
    "id": "PhkV2uBdKLDO",
    "outputId": "556d6b66-4993-49a6-b556-cfc38f2b7d4a"
   },
   "outputs": [
    {
     "name": "stdout",
     "output_type": "stream",
     "text": [
      "Epoch 1/20\n",
      "291/291 - 2s - loss: 52.0932 - accuracy: 0.6779 - 2s/epoch - 5ms/step\n",
      "Epoch 2/20\n",
      "291/291 - 1s - loss: 0.9421 - accuracy: 0.8446 - 1s/epoch - 4ms/step\n",
      "Epoch 3/20\n",
      "291/291 - 1s - loss: 0.4001 - accuracy: 0.8986 - 1s/epoch - 4ms/step\n",
      "Epoch 4/20\n",
      "291/291 - 1s - loss: 0.2769 - accuracy: 0.9174 - 1s/epoch - 4ms/step\n",
      "Epoch 5/20\n",
      "291/291 - 1s - loss: 0.2202 - accuracy: 0.9280 - 1s/epoch - 4ms/step\n",
      "Epoch 6/20\n",
      "291/291 - 1s - loss: 0.1943 - accuracy: 0.9323 - 1s/epoch - 4ms/step\n",
      "Epoch 7/20\n",
      "291/291 - 1s - loss: 0.1891 - accuracy: 0.9355 - 1s/epoch - 4ms/step\n",
      "Epoch 8/20\n",
      "291/291 - 1s - loss: 0.1749 - accuracy: 0.9396 - 1s/epoch - 4ms/step\n",
      "Epoch 9/20\n",
      "291/291 - 1s - loss: 0.1699 - accuracy: 0.9379 - 1s/epoch - 4ms/step\n",
      "Epoch 10/20\n",
      "291/291 - 1s - loss: 0.1651 - accuracy: 0.9432 - 1s/epoch - 4ms/step\n",
      "Epoch 11/20\n",
      "291/291 - 1s - loss: 0.1624 - accuracy: 0.9448 - 1s/epoch - 4ms/step\n",
      "Epoch 12/20\n",
      "291/291 - 1s - loss: 0.1560 - accuracy: 0.9444 - 1s/epoch - 4ms/step\n",
      "Epoch 13/20\n",
      "291/291 - 1s - loss: 0.1641 - accuracy: 0.9458 - 1s/epoch - 4ms/step\n",
      "Epoch 14/20\n",
      "291/291 - 1s - loss: 0.1517 - accuracy: 0.9479 - 1s/epoch - 4ms/step\n",
      "Epoch 15/20\n",
      "291/291 - 1s - loss: 0.1463 - accuracy: 0.9494 - 1s/epoch - 4ms/step\n",
      "Epoch 16/20\n",
      "291/291 - 1s - loss: 0.1467 - accuracy: 0.9462 - 1s/epoch - 4ms/step\n",
      "Epoch 17/20\n",
      "291/291 - 1s - loss: 0.1292 - accuracy: 0.9510 - 1s/epoch - 4ms/step\n",
      "Epoch 18/20\n",
      "291/291 - 1s - loss: 0.1485 - accuracy: 0.9491 - 1s/epoch - 4ms/step\n",
      "Epoch 19/20\n",
      "291/291 - 1s - loss: 0.1550 - accuracy: 0.9480 - 1s/epoch - 4ms/step\n",
      "Epoch 20/20\n",
      "291/291 - 1s - loss: 0.1225 - accuracy: 0.9539 - 1s/epoch - 4ms/step\n"
     ]
    }
   ],
   "source": [
    "#history = cwe_120_model.fit(X_cwe_120_train, y_cwe_120_train, epochs=20, verbose=2)"
   ]
  },
  {
   "cell_type": "code",
   "execution_count": 14,
   "metadata": {
    "colab": {
     "base_uri": "https://localhost:8080/",
     "height": 329
    },
    "executionInfo": {
     "elapsed": 3939,
     "status": "ok",
     "timestamp": 1651766989179,
     "user": {
      "displayName": "Pedro Alarcon Granadeno",
      "userId": "03221847207112830166"
     },
     "user_tz": 240
    },
    "id": "2_jzQM5F9DQm",
    "outputId": "4f1237f7-e359-4f0b-eb5e-9fbe35f9278a",
    "scrolled": true
   },
   "outputs": [
    {
     "name": "stdout",
     "output_type": "stream",
     "text": [
      "Generate a prediction\n",
      "prediction shape: (1032,)\n"
     ]
    },
    {
     "data": {
      "image/png": "[encoded data removed]",
      "text/plain": [
       "<Figure size 432x288 with 1 Axes>"
      ]
     },
     "metadata": {
      "filenames": {
       "image/png": "/Users/tonyalarcon/sp22-paradigms/academic-portfolio/academic-porfolio/_build/jupyter_execute/vulnerability-prediction/CNN_15_1.png"
      },
      "needs_background": "light"
     },
     "output_type": "display_data"
    }
   ],
   "source": [
    "cwe_120_model = keras.models.load_model('/content/drive/MyDrive/Vulnerability Prediction/CNN/cwe_120_model.ph')\n",
    "generate_roc_plot(cwe_120_model, X_cwe_120_test, y_cwe_120_test)\n"
   ]
  },
  {
   "cell_type": "code",
   "execution_count": null,
   "metadata": {
    "id": "o27P8Ziu9DQn",
    "outputId": "6e328439-b75e-4cbb-f383-17ead809e2b8"
   },
   "outputs": [
    {
     "name": "stdout",
     "output_type": "stream",
     "text": [
      "INFO:tensorflow:Assets written to: /scratch365/palarcon/Vulnerability Project/CNN/cwe_120_model.ph/assets\n"
     ]
    }
   ],
   "source": [
    "cwe_120_model.save('/scratch365/palarcon/Vulnerability Project/CNN/cwe_120_model.ph')"
   ]
  },
  {
   "cell_type": "markdown",
   "metadata": {
    "id": "556mtFgMnzJT"
   },
   "source": [
    "# CSE 469"
   ]
  },
  {
   "cell_type": "code",
   "execution_count": 15,
   "metadata": {
    "colab": {
     "base_uri": "https://localhost:8080/"
    },
    "executionInfo": {
     "elapsed": 5441,
     "status": "ok",
     "timestamp": 1651767011699,
     "user": {
      "displayName": "Pedro Alarcon Granadeno",
      "userId": "03221847207112830166"
     },
     "user_tz": 240
    },
    "id": "OsY_jywUmiOu",
    "outputId": "5d44a95c-7e21-4745-c18d-3420d729b3e0"
   },
   "outputs": [
    {
     "name": "stdout",
     "output_type": "stream",
     "text": [
      "Label Distribution: \n",
      "1    324\n",
      "0    324\n",
      "Name: CWE-469, dtype: int64\n",
      "Dataset: \n",
      "\n",
      "Shape of features: (648, 1533, 1) (# samples, # features, channel) of type <class 'numpy.ndarray'>\n",
      "Shape of labels: (648,) (# samples, ) of type <class 'numpy.ndarray'>\n",
      "Model: \"sequential_2\"\n",
      "_________________________________________________________________\n",
      " Layer (type)                Output Shape              Param #   \n",
      "=================================================================\n",
      " conv1d_2 (Conv1D)           (None, 1525, 32)          320       \n",
      "                                                                 \n",
      " flatten_2 (Flatten)         (None, 48800)             0         \n",
      "                                                                 \n",
      " dense_4 (Dense)             (None, 200)               9760200   \n",
      "                                                                 \n",
      " dense_5 (Dense)             (None, 1)                 201       \n",
      "                                                                 \n",
      "=================================================================\n",
      "Total params: 9,760,721\n",
      "Trainable params: 9,760,721\n",
      "Non-trainable params: 0\n",
      "_________________________________________________________________\n"
     ]
    }
   ],
   "source": [
    "X_cwe_469_train, X_cwe_469_test, y_cwe_469_train, y_cwe_469_test = load_data(folder_path + 'cwe_469_train.csv', 'CWE-469', 40)\n",
    "cwe_469_model = cnn_model(1533)\n",
    "cwe_469_model = keras.models.load_model('/content/drive/MyDrive/Vulnerability Prediction/CNN/cwe_469_model.ph')"
   ]
  },
  {
   "cell_type": "code",
   "execution_count": null,
   "metadata": {
    "id": "qtAJ70oH9DQo",
    "outputId": "afd56579-8b04-4bcb-d962-ca1e2c2c04d9"
   },
   "outputs": [
    {
     "name": "stdout",
     "output_type": "stream",
     "text": [
      "Epoch 1/10\n",
      "19/19 - 0s - loss: 0.1731 - accuracy: 0.9417 - 82ms/epoch - 4ms/step\n",
      "Epoch 2/10\n",
      "19/19 - 0s - loss: 0.4099 - accuracy: 0.9297 - 82ms/epoch - 4ms/step\n",
      "Epoch 3/10\n",
      "19/19 - 0s - loss: 0.1319 - accuracy: 0.9451 - 85ms/epoch - 4ms/step\n",
      "Epoch 4/10\n",
      "19/19 - 0s - loss: 0.1852 - accuracy: 0.9383 - 87ms/epoch - 5ms/step\n",
      "Epoch 5/10\n",
      "19/19 - 0s - loss: 0.1832 - accuracy: 0.9348 - 84ms/epoch - 4ms/step\n",
      "Epoch 6/10\n",
      "19/19 - 0s - loss: 0.2447 - accuracy: 0.9194 - 84ms/epoch - 4ms/step\n",
      "Epoch 7/10\n",
      "19/19 - 0s - loss: 0.1263 - accuracy: 0.9468 - 87ms/epoch - 5ms/step\n",
      "Epoch 8/10\n",
      "19/19 - 0s - loss: 0.1485 - accuracy: 0.9485 - 86ms/epoch - 5ms/step\n",
      "Epoch 9/10\n",
      "19/19 - 0s - loss: 0.1584 - accuracy: 0.9571 - 83ms/epoch - 4ms/step\n",
      "Epoch 10/10\n",
      "19/19 - 0s - loss: 0.0773 - accuracy: 0.9588 - 85ms/epoch - 4ms/step\n"
     ]
    }
   ],
   "source": [
    "# fit network\n",
    "#uncomment below to train new model\n",
    "#history = cwe_469_model.fit(X_cwe_469_train, y_cwe_469_train, epochs=10, verbose=2)"
   ]
  },
  {
   "cell_type": "code",
   "execution_count": 16,
   "metadata": {
    "colab": {
     "base_uri": "https://localhost:8080/",
     "height": 329
    },
    "executionInfo": {
     "elapsed": 551,
     "status": "ok",
     "timestamp": 1651767021059,
     "user": {
      "displayName": "Pedro Alarcon Granadeno",
      "userId": "03221847207112830166"
     },
     "user_tz": 240
    },
    "id": "Z3BmJRIx9DQo",
    "outputId": "e23d19fc-e0f0-4f90-b3f9-be493aba5f50"
   },
   "outputs": [
    {
     "name": "stdout",
     "output_type": "stream",
     "text": [
      "Generate a prediction\n",
      "prediction shape: (65,)\n"
     ]
    },
    {
     "data": {
      "image/png": "[encoded data removed]",
      "text/plain": [
       "<Figure size 432x288 with 1 Axes>"
      ]
     },
     "metadata": {
      "filenames": {
       "image/png": "/Users/tonyalarcon/sp22-paradigms/academic-portfolio/academic-porfolio/_build/jupyter_execute/vulnerability-prediction/CNN_20_1.png"
      },
      "needs_background": "light"
     },
     "output_type": "display_data"
    }
   ],
   "source": [
    "generate_roc_plot(cwe_469_model, X_cwe_469_test, y_cwe_469_test)"
   ]
  },
  {
   "cell_type": "code",
   "execution_count": null,
   "metadata": {
    "id": "1UZarJr99DQp",
    "outputId": "0d1cdba6-255c-4c30-913c-28778b1d0a05"
   },
   "outputs": [
    {
     "name": "stdout",
     "output_type": "stream",
     "text": [
      "INFO:tensorflow:Assets written to: /scratch365/palarcon/Vulnerability Project/CNN/cwe_469_model.ph/assets\n"
     ]
    }
   ],
   "source": [
    "#cwe_469_model.save('/scratch365/palarcon/Vulnerability Project/CNN/cwe_469_model.ph')"
   ]
  },
  {
   "cell_type": "markdown",
   "metadata": {
    "id": "x43UF4rx9DQp"
   },
   "source": [
    "# CWE 476"
   ]
  },
  {
   "cell_type": "code",
   "execution_count": 17,
   "metadata": {
    "colab": {
     "base_uri": "https://localhost:8080/"
    },
    "executionInfo": {
     "elapsed": 4918,
     "status": "ok",
     "timestamp": 1651767152765,
     "user": {
      "displayName": "Pedro Alarcon Granadeno",
      "userId": "03221847207112830166"
     },
     "user_tz": 240
    },
    "id": "mDwcO2k49DQq",
    "outputId": "c722e3b2-0aff-4d28-bb33-6454cf92a1da"
   },
   "outputs": [
    {
     "name": "stdout",
     "output_type": "stream",
     "text": [
      "Label Distribution: \n",
      "1    1174\n",
      "0    1174\n",
      "Name: CWE-476, dtype: int64\n",
      "Dataset: \n",
      "\n",
      "Shape of features: (2348, 1533, 1) (# samples, # features, channel) of type <class 'numpy.ndarray'>\n",
      "Shape of labels: (2348,) (# samples, ) of type <class 'numpy.ndarray'>\n",
      "Model: \"sequential_3\"\n",
      "_________________________________________________________________\n",
      " Layer (type)                Output Shape              Param #   \n",
      "=================================================================\n",
      " conv1d_3 (Conv1D)           (None, 1525, 32)          320       \n",
      "                                                                 \n",
      " flatten_3 (Flatten)         (None, 48800)             0         \n",
      "                                                                 \n",
      " dense_6 (Dense)             (None, 200)               9760200   \n",
      "                                                                 \n",
      " dense_7 (Dense)             (None, 1)                 201       \n",
      "                                                                 \n",
      "=================================================================\n",
      "Total params: 9,760,721\n",
      "Trainable params: 9,760,721\n",
      "Non-trainable params: 0\n",
      "_________________________________________________________________\n"
     ]
    }
   ],
   "source": [
    "X_cwe_476_train, X_cwe_476_test, y_cwe_476_train, y_cwe_476_test = load_data(folder_path + 'cwe_476_train.csv', 'CWE-476', 40)\n",
    "cwe_476_model = cnn_model(1533)\n",
    "cwe_476_model = keras.models.load_model('/content/drive/MyDrive/Vulnerability Prediction/CNN/cwe_476_model.ph')"
   ]
  },
  {
   "cell_type": "code",
   "execution_count": null,
   "metadata": {
    "id": "cjcGc9va9DQq",
    "outputId": "0ad51825-3a0c-4d65-d342-c9e176facbce"
   },
   "outputs": [
    {
     "name": "stdout",
     "output_type": "stream",
     "text": [
      "Epoch 1/10\n",
      "67/67 - 1s - loss: 23.0685 - accuracy: 0.6285 - 591ms/epoch - 9ms/step\n",
      "Epoch 2/10\n",
      "67/67 - 0s - loss: 0.8427 - accuracy: 0.6981 - 305ms/epoch - 5ms/step\n",
      "Epoch 3/10\n",
      "67/67 - 0s - loss: 0.6337 - accuracy: 0.7804 - 300ms/epoch - 4ms/step\n",
      "Epoch 4/10\n",
      "67/67 - 0s - loss: 0.3765 - accuracy: 0.8486 - 300ms/epoch - 4ms/step\n",
      "Epoch 5/10\n",
      "67/67 - 0s - loss: 0.2558 - accuracy: 0.8907 - 292ms/epoch - 4ms/step\n",
      "Epoch 6/10\n",
      "67/67 - 0s - loss: 0.2974 - accuracy: 0.8864 - 296ms/epoch - 4ms/step\n",
      "Epoch 7/10\n",
      "67/67 - 0s - loss: 0.1887 - accuracy: 0.9342 - 291ms/epoch - 4ms/step\n",
      "Epoch 8/10\n",
      "67/67 - 0s - loss: 0.2070 - accuracy: 0.9380 - 300ms/epoch - 4ms/step\n",
      "Epoch 9/10\n",
      "67/67 - 0s - loss: 0.2578 - accuracy: 0.9082 - 295ms/epoch - 4ms/step\n",
      "Epoch 10/10\n",
      "67/67 - 0s - loss: 0.1639 - accuracy: 0.9361 - 299ms/epoch - 4ms/step\n"
     ]
    }
   ],
   "source": [
    "# fit network\n",
    "history = cwe_476_model.fit(X_cwe_476_train, y_cwe_476_train, epochs=10, verbose=2)"
   ]
  },
  {
   "cell_type": "code",
   "execution_count": 18,
   "metadata": {
    "colab": {
     "base_uri": "https://localhost:8080/",
     "height": 329
    },
    "executionInfo": {
     "elapsed": 490,
     "status": "ok",
     "timestamp": 1651767166825,
     "user": {
      "displayName": "Pedro Alarcon Granadeno",
      "userId": "03221847207112830166"
     },
     "user_tz": 240
    },
    "id": "PSpUaBfx9DQr",
    "outputId": "7f063e1f-490b-4ade-f063-20d1d1efd68d",
    "scrolled": false
   },
   "outputs": [
    {
     "name": "stdout",
     "output_type": "stream",
     "text": [
      "Generate a prediction\n",
      "prediction shape: (235,)\n"
     ]
    },
    {
     "data": {
      "image/png": "[encoded data removed]",
      "text/plain": [
       "<Figure size 432x288 with 1 Axes>"
      ]
     },
     "metadata": {
      "filenames": {
       "image/png": "/Users/tonyalarcon/sp22-paradigms/academic-portfolio/academic-porfolio/_build/jupyter_execute/vulnerability-prediction/CNN_25_1.png"
      },
      "needs_background": "light"
     },
     "output_type": "display_data"
    }
   ],
   "source": [
    "generate_roc_plot(cwe_476_model, X_cwe_476_test, y_cwe_476_test)"
   ]
  },
  {
   "cell_type": "code",
   "execution_count": null,
   "metadata": {
    "id": "Nghqmgex9DQr",
    "outputId": "45a731b7-2206-4417-8e01-ab889464f334"
   },
   "outputs": [
    {
     "name": "stdout",
     "output_type": "stream",
     "text": [
      "INFO:tensorflow:Assets written to: /scratch365/palarcon/Vulnerability Project/CNN/cwe_476_model.ph/assets\n"
     ]
    }
   ],
   "source": [
    "#cwe_476_model.save('/scratch365/palarcon/Vulnerability Project/CNN/cwe_476_model.ph')"
   ]
  },
  {
   "cell_type": "markdown",
   "metadata": {
    "id": "m1rCnJDH9DQr"
   },
   "source": [
    "# CWE Other"
   ]
  },
  {
   "cell_type": "code",
   "execution_count": 19,
   "metadata": {
    "colab": {
     "base_uri": "https://localhost:8080/"
    },
    "executionInfo": {
     "elapsed": 6892,
     "status": "ok",
     "timestamp": 1651767192151,
     "user": {
      "displayName": "Pedro Alarcon Granadeno",
      "userId": "03221847207112830166"
     },
     "user_tz": 240
    },
    "id": "_MHB0MwN9DQr",
    "outputId": "f3df3ffd-7cef-4797-e817-2b91903e2139"
   },
   "outputs": [
    {
     "name": "stdout",
     "output_type": "stream",
     "text": [
      "Label Distribution: \n",
      "1    3314\n",
      "0    3314\n",
      "Name: CWE-other, dtype: int64\n",
      "Dataset: \n",
      "\n",
      "Shape of features: (6628, 1533, 1) (# samples, # features, channel) of type <class 'numpy.ndarray'>\n",
      "Shape of labels: (6628,) (# samples, ) of type <class 'numpy.ndarray'>\n",
      "Model: \"sequential_4\"\n",
      "_________________________________________________________________\n",
      " Layer (type)                Output Shape              Param #   \n",
      "=================================================================\n",
      " conv1d_4 (Conv1D)           (None, 1525, 32)          320       \n",
      "                                                                 \n",
      " flatten_4 (Flatten)         (None, 48800)             0         \n",
      "                                                                 \n",
      " dense_8 (Dense)             (None, 200)               9760200   \n",
      "                                                                 \n",
      " dense_9 (Dense)             (None, 1)                 201       \n",
      "                                                                 \n",
      "=================================================================\n",
      "Total params: 9,760,721\n",
      "Trainable params: 9,760,721\n",
      "Non-trainable params: 0\n",
      "_________________________________________________________________\n"
     ]
    }
   ],
   "source": [
    "X_cwe_other_train, X_cwe_other_test, y_cwe_other_train, y_cwe_other_test = load_data(folder_path + 'cwe_other_train.csv', 'CWE-other', 40)\n",
    "cwe_other_model = cnn_model(1533)\n",
    "cwe_other_model = keras.models.load_model('/content/drive/MyDrive/Vulnerability Prediction/CNN/cwe_other_model.ph')"
   ]
  },
  {
   "cell_type": "code",
   "execution_count": null,
   "metadata": {
    "id": "hIGJTsC29DQs",
    "outputId": "991f075c-3c34-4e5e-b1c8-c2be500d4224"
   },
   "outputs": [
    {
     "name": "stdout",
     "output_type": "stream",
     "text": [
      "Epoch 1/10\n",
      "187/187 - 1s - loss: 18.8373 - accuracy: 0.5145 - 1s/epoch - 6ms/step\n",
      "Epoch 2/10\n",
      "187/187 - 1s - loss: 0.8315 - accuracy: 0.5215 - 825ms/epoch - 4ms/step\n",
      "Epoch 3/10\n",
      "187/187 - 1s - loss: 0.7438 - accuracy: 0.6535 - 824ms/epoch - 4ms/step\n",
      "Epoch 4/10\n",
      "187/187 - 1s - loss: 0.5485 - accuracy: 0.7742 - 825ms/epoch - 4ms/step\n",
      "Epoch 5/10\n",
      "187/187 - 1s - loss: 0.4693 - accuracy: 0.8381 - 810ms/epoch - 4ms/step\n",
      "Epoch 6/10\n",
      "187/187 - 1s - loss: 0.3479 - accuracy: 0.8674 - 811ms/epoch - 4ms/step\n",
      "Epoch 7/10\n",
      "187/187 - 1s - loss: 0.2820 - accuracy: 0.8946 - 815ms/epoch - 4ms/step\n",
      "Epoch 8/10\n",
      "187/187 - 1s - loss: 0.2775 - accuracy: 0.9018 - 806ms/epoch - 4ms/step\n",
      "Epoch 9/10\n",
      "187/187 - 1s - loss: 0.2543 - accuracy: 0.9061 - 796ms/epoch - 4ms/step\n",
      "Epoch 10/10\n",
      "187/187 - 1s - loss: 0.2749 - accuracy: 0.9058 - 807ms/epoch - 4ms/step\n"
     ]
    }
   ],
   "source": [
    "# fit network\n",
    "#history = cwe_other_model.fit(X_cwe_other_train, y_cwe_other_train, epochs=10, verbose=2)"
   ]
  },
  {
   "cell_type": "code",
   "execution_count": 20,
   "metadata": {
    "colab": {
     "base_uri": "https://localhost:8080/",
     "height": 329
    },
    "executionInfo": {
     "elapsed": 1023,
     "status": "ok",
     "timestamp": 1651767194764,
     "user": {
      "displayName": "Pedro Alarcon Granadeno",
      "userId": "03221847207112830166"
     },
     "user_tz": 240
    },
    "id": "gOkqlH0k9DQs",
    "outputId": "918983f6-e6ce-46c4-d88f-aa6fa9f8ce3e"
   },
   "outputs": [
    {
     "name": "stdout",
     "output_type": "stream",
     "text": [
      "Generate a prediction\n",
      "prediction shape: (663,)\n"
     ]
    },
    {
     "data": {
      "image/png": "[encoded data removed]",
      "text/plain": [
       "<Figure size 432x288 with 1 Axes>"
      ]
     },
     "metadata": {
      "filenames": {
       "image/png": "/Users/tonyalarcon/sp22-paradigms/academic-portfolio/academic-porfolio/_build/jupyter_execute/vulnerability-prediction/CNN_30_1.png"
      },
      "needs_background": "light"
     },
     "output_type": "display_data"
    }
   ],
   "source": [
    "generate_roc_plot(cwe_other_model, X_cwe_other_test, y_cwe_other_test)"
   ]
  },
  {
   "cell_type": "code",
   "execution_count": null,
   "metadata": {
    "id": "28iF0Ijc9DQs",
    "outputId": "c24a318b-693f-41e3-93a8-6b1f8ec202a7"
   },
   "outputs": [
    {
     "name": "stdout",
     "output_type": "stream",
     "text": [
      "INFO:tensorflow:Assets written to: /scratch365/palarcon/Vulnerability Project/CNN/cwe_other_model.ph/assets\n"
     ]
    }
   ],
   "source": [
    "#cwe_other_model.save('/scratch365/palarcon/Vulnerability Project/CNN/cwe_other_model.ph')"
   ]
  },
  {
   "cell_type": "markdown",
   "metadata": {
    "id": "Nz72-c1F9DQt"
   },
   "source": [
    "# Validation Inference"
   ]
  },
  {
   "cell_type": "code",
   "execution_count": 21,
   "metadata": {
    "executionInfo": {
     "elapsed": 125,
     "status": "ok",
     "timestamp": 1651767199521,
     "user": {
      "displayName": "Pedro Alarcon Granadeno",
      "userId": "03221847207112830166"
     },
     "user_tz": 240
    },
    "id": "mBY0HvPF9DQu"
   },
   "outputs": [],
   "source": [
    "def generate_roc_plots(models, x_test, y_test, names):\n",
    "  # Generate a prediction using model.predict() \n",
    "  # and calculate it's shape:\n",
    "    \n",
    "    fpr, tpr, aucs = [], [], []\n",
    "    \n",
    "    #Generate a prediction\n",
    "    for i in range(len(models)):\n",
    "        model = models[i]\n",
    "        pred = model.predict(x_test[i]).ravel()\n",
    "        \n",
    "        fpr_keras, tpr_keras, thresholds_keras = roc_curve(y_test[i], pred)\n",
    "        auc_keras = auc(fpr_keras, tpr_keras)\n",
    "        \n",
    "        fpr.append(fpr_keras)\n",
    "        tpr.append(tpr_keras)\n",
    "        aucs.append(auc_keras)\n",
    "\n",
    "    \n",
    "    #generate plot\n",
    "    plt.figure(figsize=(9,9))\n",
    "    plt.plot([0, 1], [0, 1], 'k--')\n",
    "    for i in range(len(models)):\n",
    "        plt.plot(fpr[i], tpr[i], label=' {} (area = {:.3f})'.format(names[i],aucs[i]))\n",
    "    \n",
    "    plt.xlabel('False Positive Rate')\n",
    "    plt.ylabel('True Positive Rate')\n",
    "    plt.title('ROC curve')\n",
    "    plt.legend(loc='best')\n",
    "    plt.show()"
   ]
  },
  {
   "cell_type": "code",
   "execution_count": 24,
   "metadata": {
    "colab": {
     "base_uri": "https://localhost:8080/",
     "height": 567
    },
    "executionInfo": {
     "elapsed": 925,
     "status": "ok",
     "timestamp": 1651767251109,
     "user": {
      "displayName": "Pedro Alarcon Granadeno",
      "userId": "03221847207112830166"
     },
     "user_tz": 240
    },
    "id": "Iq8cLiyz9DQv",
    "outputId": "315e63fa-2ca5-4e37-8ef6-57c717c1276f"
   },
   "outputs": [
    {
     "data": {
      "image/png": "[encoded data removed]",
      "text/plain": [
       "<Figure size 648x648 with 1 Axes>"
      ]
     },
     "metadata": {
      "filenames": {
       "image/png": "/Users/tonyalarcon/sp22-paradigms/academic-portfolio/academic-porfolio/_build/jupyter_execute/vulnerability-prediction/CNN_34_0.png"
      },
      "needs_background": "light"
     },
     "output_type": "display_data"
    }
   ],
   "source": [
    "mod = [cwe_119_model, cwe_other_model, cwe_120_model, cwe_469_model, cwe_476_model]\n",
    "x_tests = [X_cwe_119_test, X_cwe_other_test, X_cwe_120_test, X_cwe_469_test, X_cwe_476_test]\n",
    "y_tests = [y_cwe_119_test, y_cwe_other_test, y_cwe_120_test, y_cwe_469_test, y_cwe_476_test]\n",
    "names = ['CWE-119', 'CWE-Oth', 'CWE-120', 'CWE-469','CWE-476']\n",
    "generate_roc_plots(mod, x_tests, y_tests, names)"
   ]
  },
  {
   "cell_type": "code",
   "execution_count": 25,
   "metadata": {
    "executionInfo": {
     "elapsed": 105,
     "status": "ok",
     "timestamp": 1651767264932,
     "user": {
      "displayName": "Pedro Alarcon Granadeno",
      "userId": "03221847207112830166"
     },
     "user_tz": 240
    },
    "id": "Z20Y2zh39DQw"
   },
   "outputs": [],
   "source": [
    "def classificationReport(model, X, y):\n",
    "    # make a prediction on the test set\n",
    "    yhat = model.predict(X)\n",
    "    # round probabilities to class labels\n",
    "    yhat = yhat.round()\n",
    "    \n",
    "    print(classification_report(y, yhat))"
   ]
  },
  {
   "cell_type": "code",
   "execution_count": 26,
   "metadata": {
    "colab": {
     "base_uri": "https://localhost:8080/"
    },
    "executionInfo": {
     "elapsed": 822,
     "status": "ok",
     "timestamp": 1651767266950,
     "user": {
      "displayName": "Pedro Alarcon Granadeno",
      "userId": "03221847207112830166"
     },
     "user_tz": 240
    },
    "id": "iiPp5gvd9DQx",
    "outputId": "8a4d2002-2367-4d43-8b77-1ce764ede7bb"
   },
   "outputs": [
    {
     "name": "stdout",
     "output_type": "stream",
     "text": [
      "CWE-119\n",
      "              precision    recall  f1-score   support\n",
      "\n",
      "           0       0.90      0.92      0.91       255\n",
      "           1       0.93      0.91      0.92       287\n",
      "\n",
      "    accuracy                           0.91       542\n",
      "   macro avg       0.91      0.91      0.91       542\n",
      "weighted avg       0.91      0.91      0.91       542\n",
      "\n",
      "CWE-Oth\n",
      "              precision    recall  f1-score   support\n",
      "\n",
      "           0       0.95      0.91      0.93       349\n",
      "           1       0.90      0.95      0.92       314\n",
      "\n",
      "    accuracy                           0.93       663\n",
      "   macro avg       0.93      0.93      0.93       663\n",
      "weighted avg       0.93      0.93      0.93       663\n",
      "\n",
      "CWE-120\n",
      "              precision    recall  f1-score   support\n",
      "\n",
      "           0       0.97      0.88      0.92       500\n",
      "           1       0.89      0.98      0.93       532\n",
      "\n",
      "    accuracy                           0.93      1032\n",
      "   macro avg       0.93      0.93      0.93      1032\n",
      "weighted avg       0.93      0.93      0.93      1032\n",
      "\n",
      "CWE-469\n",
      "              precision    recall  f1-score   support\n",
      "\n",
      "           0       0.72      0.75      0.74        28\n",
      "           1       0.81      0.78      0.79        37\n",
      "\n",
      "    accuracy                           0.77        65\n",
      "   macro avg       0.76      0.77      0.77        65\n",
      "weighted avg       0.77      0.77      0.77        65\n",
      "\n",
      "CWE-476\n",
      "              precision    recall  f1-score   support\n",
      "\n",
      "           0       0.92      0.87      0.89       128\n",
      "           1       0.85      0.91      0.88       107\n",
      "\n",
      "    accuracy                           0.89       235\n",
      "   macro avg       0.88      0.89      0.88       235\n",
      "weighted avg       0.89      0.89      0.89       235\n",
      "\n"
     ]
    }
   ],
   "source": [
    "for i in range(len(mod)):\n",
    "    print(names[i])\n",
    "    classificationReport(mod[i], x_tests[i], y_tests[i])"
   ]
  }
 ],
 "metadata": {
  "accelerator": "GPU",
  "colab": {
   "name": "CNN.ipynb",
   "provenance": []
  },
  "interpreter": {
   "hash": "92829e2fac57cbff12d0f5f666c000e50d10f2158a7e425f09180d35edebd327"
  },
  "kernelspec": {
   "display_name": "Python 3.8.8 ('base')",
   "language": "python",
   "name": "python3"
  },
  "language_info": {
   "codemirror_mode": {
    "name": "ipython",
    "version": 3
   },
   "file_extension": ".py",
   "mimetype": "text/x-python",
   "name": "python",
   "nbconvert_exporter": "python",
   "pygments_lexer": "ipython3",
   "version": "3.8.8"
  }
 },
 "nbformat": 4,
 "nbformat_minor": 0
}