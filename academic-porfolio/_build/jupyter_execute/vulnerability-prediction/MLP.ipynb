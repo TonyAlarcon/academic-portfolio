{
 "cells": [
  {
   "cell_type": "markdown",
   "id": "2eca2eaf",
   "metadata": {},
   "source": [
    "# MLP"
   ]
  },
  {
   "cell_type": "code",
   "execution_count": 4,
   "id": "5095425f",
   "metadata": {
    "colab": {
     "base_uri": "https://localhost:8080/"
    },
    "executionInfo": {
     "elapsed": 81,
     "status": "ok",
     "timestamp": 1651767782514,
     "user": {
      "displayName": "Pedro Alarcon Granadeno",
      "userId": "03221847207112830166"
     },
     "user_tz": 240
    },
    "id": "5095425f",
    "outputId": "fba503b8-1260-4ad6-ba44-4ddfcfc496f4"
   },
   "outputs": [
    {
     "name": "stdout",
     "output_type": "stream",
     "text": [
      "/content\n"
     ]
    }
   ],
   "source": [
    "import pandas as pd \n",
    "import numpy as np\n",
    "import argparse\n",
    "import math\n",
    "import string\n",
    "from collections.abc import Iterable\n",
    "from collections import Counter\n",
    "import pandas as pd \n",
    "\n",
    "import argparse\n",
    "from sklearn.metrics import accuracy_score\n",
    "\n",
    "from keras.models import Sequential\n",
    "from keras.layers import Dense, Conv1D, Flatten\n",
    "from tensorflow import keras\n",
    "from sklearn.metrics import roc_curve\n",
    "from sklearn.metrics import auc\n",
    "from sklearn import datasets, metrics\n",
    "from sklearn.model_selection import train_test_split\n",
    "from sklearn.linear_model import LogisticRegression\n",
    "from sklearn.metrics import average_precision_score, precision_recall_curve\n",
    "from sklearn.metrics import auc, plot_precision_recall_curve\n",
    "import matplotlib.pyplot as plt\n",
    "from matplotlib import pyplot\n",
    "from sklearn.metrics import classification_report\n",
    "import os\n",
    "from sklearn.model_selection import train_test_split\n",
    "print(os.getcwd())"
   ]
  },
  {
   "cell_type": "code",
   "execution_count": 2,
   "id": "GDaiBYzaBp0C",
   "metadata": {
    "colab": {
     "base_uri": "https://localhost:8080/"
    },
    "executionInfo": {
     "elapsed": 17531,
     "status": "ok",
     "timestamp": 1651767735612,
     "user": {
      "displayName": "Pedro Alarcon Granadeno",
      "userId": "03221847207112830166"
     },
     "user_tz": 240
    },
    "id": "GDaiBYzaBp0C",
    "outputId": "6b530349-c2b1-4a25-d001-20575133afb9"
   },
   "outputs": [
    {
     "name": "stdout",
     "output_type": "stream",
     "text": [
      "Mounted at /content/drive\n"
     ]
    }
   ],
   "source": [
    "from google.colab import drive\n",
    "drive.mount('/content/drive')"
   ]
  },
  {
   "cell_type": "markdown",
   "id": "2a4bfeda",
   "metadata": {
    "id": "2a4bfeda"
   },
   "source": [
    "# Import Dataset"
   ]
  },
  {
   "cell_type": "code",
   "execution_count": 8,
   "id": "b7f84862",
   "metadata": {
    "executionInfo": {
     "elapsed": 379,
     "status": "ok",
     "timestamp": 1651767825661,
     "user": {
      "displayName": "Pedro Alarcon Granadeno",
      "userId": "03221847207112830166"
     },
     "user_tz": 240
    },
    "id": "b7f84862"
   },
   "outputs": [],
   "source": [
    "\n",
    "\n",
    "folder_path = '/content/drive/MyDrive/Vulnerability Prediction/Processed Datasets/'\n",
    "\n",
    "#function to load and prepare dataset training labels \n",
    "def load_data(path, column, rdm_state):\n",
    "    dataframe = pd.read_csv(path)\n",
    "    \n",
    "    y = dataframe[column].astype(int) # numberize the labels i.e., tranforms True = 1, False = 0\n",
    "    print(\"Label Distribution: \")\n",
    "    print(y.value_counts())\n",
    "\n",
    "    y = y.values \n",
    "    \n",
    "    X = dataframe.iloc[:, 7:]\n",
    "    num_features = len(X.columns) \n",
    "    X = X.values\n",
    "\n",
    "    #X = np.reshape(X, (len(X), num_features, 1)) \n",
    "\n",
    "\n",
    "    print(\"Dataset: \")\n",
    "    print(f\"\\nShape of features: {X.shape} (# samples, # features, channel) of type {type(X)}\" )\n",
    "    print(f\"Shape of labels: {y.shape} (# samples, ) of type {type(X)}\" )\n",
    "    \n",
    "    \n",
    "    X_train, X_test, y_train, y_test = train_test_split(X, y, test_size=0.10, random_state=rdm_state)\n",
    "\n",
    "    return X_train, X_test, y_train, y_test\n",
    "\n",
    "\n",
    "def run_acccuracy(model, X, y):\n",
    "  loss, acc = model.evaluate(X, y, verbose=0)\n",
    "  print(f'Test Accuracy: {acc*100}')\n",
    "\n",
    "\n",
    "def generate_roc_plot(model, x_test, y_test):\n",
    "  # Generate a prediction using model.predict() \n",
    "  # and calculate it's shape:\n",
    "  print(\"Generate a prediction\")\n",
    "  prediction = model.predict(x_test).ravel()\n",
    "  print(\"prediction shape:\", prediction.shape)\n",
    "\n",
    "  fpr_keras, tpr_keras, thresholds_keras = roc_curve(y_test, prediction)\n",
    "  auc_keras = auc(fpr_keras, tpr_keras)\n",
    "\n",
    "  #generate plot\n",
    "  plt.figure(1)\n",
    "  plt.plot([0, 1], [0, 1], 'k--')\n",
    "  plt.plot(fpr_keras, tpr_keras, label=' (area = {:.3f})'.format(auc_keras))\n",
    "  plt.xlabel('False positive rate')\n",
    "  plt.ylabel('True positive rate')\n",
    "  plt.title('ROC curve')\n",
    "  plt.legend(loc='best')\n",
    "  plt.show()\n",
    "\n",
    "def mlp_model(num_features):\n",
    "\n",
    "    # define the keras model\n",
    "    model = Sequential()\n",
    "    model.add(Dense(10, input_dim=num_features, activation='relu'))\n",
    "    model.add(Dense(1, activation='sigmoid'))\n",
    "    # compile the keras model\n",
    "    model.summary()\n",
    "    model.compile(loss='binary_crossentropy', optimizer='adam', metrics=['accuracy'])\n",
    "\n",
    "\n",
    "    #model.compile(loss='categorical_crossentropy', optimizer='adam', metrics=['accuracy'])\n",
    "    return model"
   ]
  },
  {
   "cell_type": "code",
   "execution_count": 10,
   "id": "d8792acf",
   "metadata": {
    "colab": {
     "base_uri": "https://localhost:8080/"
    },
    "executionInfo": {
     "elapsed": 2421,
     "status": "ok",
     "timestamp": 1651767859053,
     "user": {
      "displayName": "Pedro Alarcon Granadeno",
      "userId": "03221847207112830166"
     },
     "user_tz": 240
    },
    "id": "d8792acf",
    "outputId": "95363567-67b4-4adf-ba68-742626590b6a"
   },
   "outputs": [
    {
     "name": "stdout",
     "output_type": "stream",
     "text": [
      "Label Distribution: \n",
      "1    2710\n",
      "0    2710\n",
      "Name: CWE-119, dtype: int64\n",
      "Dataset: \n",
      "\n",
      "Shape of features: (5420, 1533) (# samples, # features, channel) of type <class 'numpy.ndarray'>\n",
      "Shape of labels: (5420,) (# samples, ) of type <class 'numpy.ndarray'>\n",
      "Model: \"sequential_1\"\n",
      "_________________________________________________________________\n",
      " Layer (type)                Output Shape              Param #   \n",
      "=================================================================\n",
      " dense_2 (Dense)             (None, 10)                15340     \n",
      "                                                                 \n",
      " dense_3 (Dense)             (None, 1)                 11        \n",
      "                                                                 \n",
      "=================================================================\n",
      "Total params: 15,351\n",
      "Trainable params: 15,351\n",
      "Non-trainable params: 0\n",
      "_________________________________________________________________\n"
     ]
    }
   ],
   "source": [
    "X_cwe_119_train, X_cwe_119_test, y_cwe_119_train, y_cwe_119_test = load_data(folder_path + 'cwe_119_train.csv', 'CWE-119', 42)\n",
    "\n",
    "mlp_cwe_119 = mlp_model(1533)\n",
    "mlp_cwe_119 = keras.models.load_model('/content/drive/MyDrive/Vulnerability Prediction/MLP/mlp_cwe_119_model.ph')"
   ]
  },
  {
   "cell_type": "code",
   "execution_count": null,
   "id": "1949d55d",
   "metadata": {
    "id": "1949d55d",
    "outputId": "e7638d84-5523-4ed5-c35d-3654b9b74f9d"
   },
   "outputs": [
    {
     "name": "stdout",
     "output_type": "stream",
     "text": [
      "Epoch 1/10\n",
      "488/488 - 1s - loss: 0.3375 - accuracy: 0.8670 - 1s/epoch - 3ms/step\n",
      "Epoch 2/10\n",
      "488/488 - 1s - loss: 0.3343 - accuracy: 0.8700 - 1s/epoch - 3ms/step\n",
      "Epoch 3/10\n",
      "488/488 - 1s - loss: 0.3397 - accuracy: 0.8682 - 1s/epoch - 3ms/step\n",
      "Epoch 4/10\n",
      "488/488 - 1s - loss: 0.3315 - accuracy: 0.8717 - 1s/epoch - 3ms/step\n",
      "Epoch 5/10\n",
      "488/488 - 1s - loss: 0.3325 - accuracy: 0.8741 - 1s/epoch - 3ms/step\n",
      "Epoch 6/10\n",
      "488/488 - 1s - loss: 0.3304 - accuracy: 0.8743 - 1s/epoch - 3ms/step\n",
      "Epoch 7/10\n",
      "488/488 - 1s - loss: 0.3353 - accuracy: 0.8721 - 1s/epoch - 3ms/step\n",
      "Epoch 8/10\n",
      "488/488 - 1s - loss: 0.3246 - accuracy: 0.8793 - 1s/epoch - 3ms/step\n",
      "Epoch 9/10\n",
      "488/488 - 1s - loss: 0.3249 - accuracy: 0.8784 - 1s/epoch - 3ms/step\n",
      "Epoch 10/10\n",
      "488/488 - 1s - loss: 0.3247 - accuracy: 0.8713 - 1s/epoch - 3ms/step\n"
     ]
    }
   ],
   "source": [
    "# fit the keras model on the dataset\n",
    "#history = mlp_cwe_119.fit(X_cwe_119_train, y_cwe_119_train, epochs=10, batch_size=10, verbose=2)\n"
   ]
  },
  {
   "cell_type": "code",
   "execution_count": 11,
   "id": "c6cf3634",
   "metadata": {
    "colab": {
     "base_uri": "https://localhost:8080/",
     "height": 346
    },
    "executionInfo": {
     "elapsed": 949,
     "status": "ok",
     "timestamp": 1651767870036,
     "user": {
      "displayName": "Pedro Alarcon Granadeno",
      "userId": "03221847207112830166"
     },
     "user_tz": 240
    },
    "id": "c6cf3634",
    "outputId": "6339cbf3-0101-4f58-e991-5366f6befde7"
   },
   "outputs": [
    {
     "name": "stdout",
     "output_type": "stream",
     "text": [
      "Test Accuracy: 87.63837814331055\n",
      "Generate a prediction\n",
      "prediction shape: (542,)\n"
     ]
    },
    {
     "data": {
      "image/png": "[encoded data removed]",
      "text/plain": [
       "<Figure size 432x288 with 1 Axes>"
      ]
     },
     "metadata": {
      "filenames": {
       "image/png": "/Users/tonyalarcon/sp22-paradigms/academic-portfolio/academic-porfolio/_build/jupyter_execute/vulnerability-prediction/MLP_7_1.png"
      },
      "needs_background": "light"
     },
     "output_type": "display_data"
    }
   ],
   "source": [
    "run_acccuracy(mlp_cwe_119, X_cwe_119_test, y_cwe_119_test)\n",
    "generate_roc_plot(mlp_cwe_119, X_cwe_119_test, y_cwe_119_test)"
   ]
  },
  {
   "cell_type": "code",
   "execution_count": null,
   "id": "76662158",
   "metadata": {
    "id": "76662158",
    "outputId": "5da02791-08d6-4b0f-e91d-d38a69a670b4"
   },
   "outputs": [
    {
     "name": "stderr",
     "output_type": "stream",
     "text": [
      "2022-04-20 11:29:05.800053: W tensorflow/python/util/util.cc:368] Sets are not currently considered sequences, but this may change in the future, so consider avoiding using them.\n"
     ]
    },
    {
     "name": "stdout",
     "output_type": "stream",
     "text": [
      "INFO:tensorflow:Assets written to: /scratch365/palarcon/Vulnerability Project/MLP/mlp_cwe_119_model.ph/assets\n"
     ]
    }
   ],
   "source": [
    "#mlp_cwe_119.save('/scratch365/palarcon/Vulnerability Project/MLP/mlp_cwe_119_model.ph')"
   ]
  },
  {
   "cell_type": "markdown",
   "id": "97cd2d8a",
   "metadata": {
    "id": "97cd2d8a"
   },
   "source": [
    "# CWE 120"
   ]
  },
  {
   "cell_type": "code",
   "execution_count": 12,
   "id": "27fbf5e1",
   "metadata": {
    "colab": {
     "base_uri": "https://localhost:8080/"
    },
    "executionInfo": {
     "elapsed": 4597,
     "status": "ok",
     "timestamp": 1651767909140,
     "user": {
      "displayName": "Pedro Alarcon Granadeno",
      "userId": "03221847207112830166"
     },
     "user_tz": 240
    },
    "id": "27fbf5e1",
    "outputId": "f0281a5a-d0ed-4676-c22c-06977e7ac251"
   },
   "outputs": [
    {
     "name": "stdout",
     "output_type": "stream",
     "text": [
      "Label Distribution: \n",
      "1    5159\n",
      "0    5159\n",
      "Name: CWE-120, dtype: int64\n",
      "Dataset: \n",
      "\n",
      "Shape of features: (10318, 1533) (# samples, # features, channel) of type <class 'numpy.ndarray'>\n",
      "Shape of labels: (10318,) (# samples, ) of type <class 'numpy.ndarray'>\n",
      "Model: \"sequential_2\"\n",
      "_________________________________________________________________\n",
      " Layer (type)                Output Shape              Param #   \n",
      "=================================================================\n",
      " dense_4 (Dense)             (None, 10)                15340     \n",
      "                                                                 \n",
      " dense_5 (Dense)             (None, 1)                 11        \n",
      "                                                                 \n",
      "=================================================================\n",
      "Total params: 15,351\n",
      "Trainable params: 15,351\n",
      "Non-trainable params: 0\n",
      "_________________________________________________________________\n"
     ]
    }
   ],
   "source": [
    "X_cwe_120_train, X_cwe_120_test, y_cwe_120_train, y_cwe_120_test = load_data(folder_path + 'cwe_120_train.csv', 'CWE-120', 45)\n",
    "cwe_120_model = mlp_model(1533)\n",
    "cwe_120_model = keras.models.load_model('/content/drive/MyDrive/Vulnerability Prediction/MLP/mlp_cwe_120_model.ph')"
   ]
  },
  {
   "cell_type": "code",
   "execution_count": null,
   "id": "c7195384",
   "metadata": {
    "id": "c7195384",
    "outputId": "e81d5cc2-f801-4d64-93e6-2ccab03f05a0"
   },
   "outputs": [
    {
     "name": "stdout",
     "output_type": "stream",
     "text": [
      "Epoch 1/30\n",
      "291/291 - 1s - loss: 0.2951 - accuracy: 0.8919 - 849ms/epoch - 3ms/step\n",
      "Epoch 2/30\n",
      "291/291 - 1s - loss: 0.2897 - accuracy: 0.8952 - 830ms/epoch - 3ms/step\n",
      "Epoch 3/30\n",
      "291/291 - 1s - loss: 0.2915 - accuracy: 0.8919 - 897ms/epoch - 3ms/step\n",
      "Epoch 4/30\n",
      "291/291 - 1s - loss: 0.2954 - accuracy: 0.8909 - 912ms/epoch - 3ms/step\n",
      "Epoch 5/30\n",
      "291/291 - 1s - loss: 0.3002 - accuracy: 0.8922 - 810ms/epoch - 3ms/step\n",
      "Epoch 6/30\n",
      "291/291 - 1s - loss: 0.2894 - accuracy: 0.8937 - 851ms/epoch - 3ms/step\n",
      "Epoch 7/30\n",
      "291/291 - 1s - loss: 0.2859 - accuracy: 0.8959 - 820ms/epoch - 3ms/step\n",
      "Epoch 8/30\n",
      "291/291 - 1s - loss: 0.2827 - accuracy: 0.8986 - 812ms/epoch - 3ms/step\n",
      "Epoch 9/30\n",
      "291/291 - 1s - loss: 0.2842 - accuracy: 0.8942 - 808ms/epoch - 3ms/step\n",
      "Epoch 10/30\n",
      "291/291 - 1s - loss: 0.2947 - accuracy: 0.8916 - 879ms/epoch - 3ms/step\n",
      "Epoch 11/30\n",
      "291/291 - 1s - loss: 0.2866 - accuracy: 0.8926 - 859ms/epoch - 3ms/step\n",
      "Epoch 12/30\n",
      "291/291 - 1s - loss: 0.2845 - accuracy: 0.8963 - 777ms/epoch - 3ms/step\n",
      "Epoch 13/30\n",
      "291/291 - 1s - loss: 0.2838 - accuracy: 0.8966 - 803ms/epoch - 3ms/step\n",
      "Epoch 14/30\n",
      "291/291 - 1s - loss: 0.2911 - accuracy: 0.8992 - 724ms/epoch - 2ms/step\n",
      "Epoch 15/30\n",
      "291/291 - 1s - loss: 0.2908 - accuracy: 0.8968 - 796ms/epoch - 3ms/step\n",
      "Epoch 16/30\n",
      "291/291 - 1s - loss: 0.2806 - accuracy: 0.9009 - 836ms/epoch - 3ms/step\n",
      "Epoch 17/30\n",
      "291/291 - 1s - loss: 0.2818 - accuracy: 0.8972 - 810ms/epoch - 3ms/step\n",
      "Epoch 18/30\n",
      "291/291 - 1s - loss: 0.2810 - accuracy: 0.9014 - 805ms/epoch - 3ms/step\n",
      "Epoch 19/30\n",
      "291/291 - 1s - loss: 0.2772 - accuracy: 0.9016 - 781ms/epoch - 3ms/step\n",
      "Epoch 20/30\n",
      "291/291 - 1s - loss: 0.2852 - accuracy: 0.8963 - 823ms/epoch - 3ms/step\n",
      "Epoch 21/30\n",
      "291/291 - 1s - loss: 0.2775 - accuracy: 0.9017 - 740ms/epoch - 3ms/step\n",
      "Epoch 22/30\n",
      "291/291 - 1s - loss: 0.2841 - accuracy: 0.8967 - 807ms/epoch - 3ms/step\n",
      "Epoch 23/30\n",
      "291/291 - 1s - loss: 0.2812 - accuracy: 0.9002 - 778ms/epoch - 3ms/step\n",
      "Epoch 24/30\n",
      "291/291 - 1s - loss: 0.2757 - accuracy: 0.9016 - 916ms/epoch - 3ms/step\n",
      "Epoch 25/30\n",
      "291/291 - 1s - loss: 0.2831 - accuracy: 0.8962 - 747ms/epoch - 3ms/step\n",
      "Epoch 26/30\n",
      "291/291 - 1s - loss: 0.2819 - accuracy: 0.8969 - 828ms/epoch - 3ms/step\n",
      "Epoch 27/30\n",
      "291/291 - 1s - loss: 0.2765 - accuracy: 0.9006 - 786ms/epoch - 3ms/step\n",
      "Epoch 28/30\n",
      "291/291 - 1s - loss: 0.2753 - accuracy: 0.9033 - 747ms/epoch - 3ms/step\n",
      "Epoch 29/30\n",
      "291/291 - 1s - loss: 0.2723 - accuracy: 0.9023 - 805ms/epoch - 3ms/step\n",
      "Epoch 30/30\n",
      "291/291 - 1s - loss: 0.2729 - accuracy: 0.9049 - 728ms/epoch - 3ms/step\n"
     ]
    }
   ],
   "source": [
    "#history = cwe_120_model.fit(X_cwe_120_train, y_cwe_120_train, epochs=30, verbose=2)"
   ]
  },
  {
   "cell_type": "code",
   "execution_count": 13,
   "id": "dc909541",
   "metadata": {
    "colab": {
     "base_uri": "https://localhost:8080/",
     "height": 346
    },
    "executionInfo": {
     "elapsed": 724,
     "status": "ok",
     "timestamp": 1651767913250,
     "user": {
      "displayName": "Pedro Alarcon Granadeno",
      "userId": "03221847207112830166"
     },
     "user_tz": 240
    },
    "id": "dc909541",
    "outputId": "39c94462-3a6f-407d-8bc2-5472248f0b44"
   },
   "outputs": [
    {
     "name": "stdout",
     "output_type": "stream",
     "text": [
      "Test Accuracy: 87.40310072898865\n",
      "Generate a prediction\n",
      "prediction shape: (1032,)\n"
     ]
    },
    {
     "data": {
      "image/png": "[encoded data removed]",
      "text/plain": [
       "<Figure size 432x288 with 1 Axes>"
      ]
     },
     "metadata": {
      "filenames": {
       "image/png": "/Users/tonyalarcon/sp22-paradigms/academic-portfolio/academic-porfolio/_build/jupyter_execute/vulnerability-prediction/MLP_12_1.png"
      },
      "needs_background": "light"
     },
     "output_type": "display_data"
    }
   ],
   "source": [
    "run_acccuracy(cwe_120_model, X_cwe_120_test, y_cwe_120_test)\n",
    "generate_roc_plot(cwe_120_model, X_cwe_120_test, y_cwe_120_test)"
   ]
  },
  {
   "cell_type": "code",
   "execution_count": null,
   "id": "e6653fa1",
   "metadata": {
    "id": "e6653fa1",
    "outputId": "940ecfb5-d3ad-478f-dbd2-f791ac0beb32"
   },
   "outputs": [
    {
     "name": "stdout",
     "output_type": "stream",
     "text": [
      "INFO:tensorflow:Assets written to: /scratch365/palarcon/Vulnerability Project/MLP/mlp_cwe_120_model.ph/assets\n"
     ]
    }
   ],
   "source": [
    "#cwe_120_model.save('/scratch365/palarcon/Vulnerability Project/MLP/mlp_cwe_120_model.ph')"
   ]
  },
  {
   "cell_type": "markdown",
   "id": "b32007b2",
   "metadata": {
    "id": "b32007b2"
   },
   "source": [
    "# CWE 469"
   ]
  },
  {
   "cell_type": "code",
   "execution_count": 14,
   "id": "cd44725c",
   "metadata": {
    "colab": {
     "base_uri": "https://localhost:8080/"
    },
    "executionInfo": {
     "elapsed": 2353,
     "status": "ok",
     "timestamp": 1651767947759,
     "user": {
      "displayName": "Pedro Alarcon Granadeno",
      "userId": "03221847207112830166"
     },
     "user_tz": 240
    },
    "id": "cd44725c",
    "outputId": "ecc20927-7c7e-4cc8-cece-7059aa83e719"
   },
   "outputs": [
    {
     "name": "stdout",
     "output_type": "stream",
     "text": [
      "Label Distribution: \n",
      "1    324\n",
      "0    324\n",
      "Name: CWE-469, dtype: int64\n",
      "Dataset: \n",
      "\n",
      "Shape of features: (648, 1533) (# samples, # features, channel) of type <class 'numpy.ndarray'>\n",
      "Shape of labels: (648,) (# samples, ) of type <class 'numpy.ndarray'>\n",
      "Model: \"sequential_3\"\n",
      "_________________________________________________________________\n",
      " Layer (type)                Output Shape              Param #   \n",
      "=================================================================\n",
      " dense_6 (Dense)             (None, 10)                15340     \n",
      "                                                                 \n",
      " dense_7 (Dense)             (None, 1)                 11        \n",
      "                                                                 \n",
      "=================================================================\n",
      "Total params: 15,351\n",
      "Trainable params: 15,351\n",
      "Non-trainable params: 0\n",
      "_________________________________________________________________\n"
     ]
    }
   ],
   "source": [
    "X_cwe_469_train, X_cwe_469_test, y_cwe_469_train, y_cwe_469_test = load_data(folder_path + 'cwe_469_train.csv', 'CWE-469', 40)\n",
    "cwe_469_model = mlp_model(1533)\n",
    "cwe_469_model = keras.models.load_model('/content/drive/MyDrive/Vulnerability Prediction/MLP/mlp_cwe_469_model.ph')"
   ]
  },
  {
   "cell_type": "code",
   "execution_count": null,
   "id": "29d021b6",
   "metadata": {
    "id": "29d021b6",
    "outputId": "8962f400-2c70-4cd0-dc00-c53e28f5a956"
   },
   "outputs": [
    {
     "name": "stdout",
     "output_type": "stream",
     "text": [
      "Epoch 1/40\n",
      "19/19 - 0s - loss: 40.6596 - accuracy: 0.4974 - 313ms/epoch - 16ms/step\n",
      "Epoch 2/40\n",
      "19/19 - 0s - loss: 17.0366 - accuracy: 0.5986 - 49ms/epoch - 3ms/step\n",
      "Epoch 3/40\n",
      "19/19 - 0s - loss: 10.5093 - accuracy: 0.6775 - 57ms/epoch - 3ms/step\n",
      "Epoch 4/40\n",
      "19/19 - 0s - loss: 6.7381 - accuracy: 0.7084 - 53ms/epoch - 3ms/step\n",
      "Epoch 5/40\n",
      "19/19 - 0s - loss: 4.5964 - accuracy: 0.7479 - 57ms/epoch - 3ms/step\n",
      "Epoch 6/40\n",
      "19/19 - 0s - loss: 3.2765 - accuracy: 0.7787 - 56ms/epoch - 3ms/step\n",
      "Epoch 7/40\n",
      "19/19 - 0s - loss: 2.1681 - accuracy: 0.8165 - 52ms/epoch - 3ms/step\n",
      "Epoch 8/40\n",
      "19/19 - 0s - loss: 1.5172 - accuracy: 0.8370 - 52ms/epoch - 3ms/step\n",
      "Epoch 9/40\n",
      "19/19 - 0s - loss: 1.4879 - accuracy: 0.8422 - 53ms/epoch - 3ms/step\n",
      "Epoch 10/40\n",
      "19/19 - 0s - loss: 1.3436 - accuracy: 0.8473 - 57ms/epoch - 3ms/step\n",
      "Epoch 11/40\n",
      "19/19 - 0s - loss: 0.8721 - accuracy: 0.8765 - 52ms/epoch - 3ms/step\n",
      "Epoch 12/40\n",
      "19/19 - 0s - loss: 0.5540 - accuracy: 0.9039 - 55ms/epoch - 3ms/step\n",
      "Epoch 13/40\n",
      "19/19 - 0s - loss: 0.4090 - accuracy: 0.9177 - 54ms/epoch - 3ms/step\n",
      "Epoch 14/40\n",
      "19/19 - 0s - loss: 0.2891 - accuracy: 0.9383 - 49ms/epoch - 3ms/step\n",
      "Epoch 15/40\n",
      "19/19 - 0s - loss: 0.2592 - accuracy: 0.9434 - 53ms/epoch - 3ms/step\n",
      "Epoch 16/40\n",
      "19/19 - 0s - loss: 0.2240 - accuracy: 0.9485 - 51ms/epoch - 3ms/step\n",
      "Epoch 17/40\n",
      "19/19 - 0s - loss: 0.2061 - accuracy: 0.9503 - 51ms/epoch - 3ms/step\n",
      "Epoch 18/40\n",
      "19/19 - 0s - loss: 0.1466 - accuracy: 0.9640 - 50ms/epoch - 3ms/step\n",
      "Epoch 19/40\n",
      "19/19 - 0s - loss: 0.1696 - accuracy: 0.9554 - 48ms/epoch - 3ms/step\n",
      "Epoch 20/40\n",
      "19/19 - 0s - loss: 0.1338 - accuracy: 0.9657 - 50ms/epoch - 3ms/step\n",
      "Epoch 21/40\n",
      "19/19 - 0s - loss: 0.1264 - accuracy: 0.9588 - 48ms/epoch - 3ms/step\n",
      "Epoch 22/40\n",
      "19/19 - 0s - loss: 0.1253 - accuracy: 0.9623 - 47ms/epoch - 2ms/step\n",
      "Epoch 23/40\n",
      "19/19 - 0s - loss: 0.1071 - accuracy: 0.9623 - 45ms/epoch - 2ms/step\n",
      "Epoch 24/40\n",
      "19/19 - 0s - loss: 0.0968 - accuracy: 0.9743 - 46ms/epoch - 2ms/step\n",
      "Epoch 25/40\n",
      "19/19 - 0s - loss: 0.0985 - accuracy: 0.9691 - 48ms/epoch - 3ms/step\n",
      "Epoch 26/40\n",
      "19/19 - 0s - loss: 0.0969 - accuracy: 0.9726 - 48ms/epoch - 3ms/step\n",
      "Epoch 27/40\n",
      "19/19 - 0s - loss: 0.0868 - accuracy: 0.9777 - 49ms/epoch - 3ms/step\n",
      "Epoch 28/40\n",
      "19/19 - 0s - loss: 0.0758 - accuracy: 0.9760 - 49ms/epoch - 3ms/step\n",
      "Epoch 29/40\n",
      "19/19 - 0s - loss: 0.0799 - accuracy: 0.9743 - 50ms/epoch - 3ms/step\n",
      "Epoch 30/40\n",
      "19/19 - 0s - loss: 0.0753 - accuracy: 0.9726 - 50ms/epoch - 3ms/step\n",
      "Epoch 31/40\n",
      "19/19 - 0s - loss: 0.0700 - accuracy: 0.9726 - 55ms/epoch - 3ms/step\n",
      "Epoch 32/40\n",
      "19/19 - 0s - loss: 0.0641 - accuracy: 0.9760 - 57ms/epoch - 3ms/step\n",
      "Epoch 33/40\n",
      "19/19 - 0s - loss: 0.0613 - accuracy: 0.9777 - 54ms/epoch - 3ms/step\n",
      "Epoch 34/40\n",
      "19/19 - 0s - loss: 0.0610 - accuracy: 0.9743 - 56ms/epoch - 3ms/step\n",
      "Epoch 35/40\n",
      "19/19 - 0s - loss: 0.0571 - accuracy: 0.9777 - 49ms/epoch - 3ms/step\n",
      "Epoch 36/40\n",
      "19/19 - 0s - loss: 0.0536 - accuracy: 0.9777 - 52ms/epoch - 3ms/step\n",
      "Epoch 37/40\n",
      "19/19 - 0s - loss: 0.0500 - accuracy: 0.9811 - 54ms/epoch - 3ms/step\n",
      "Epoch 38/40\n",
      "19/19 - 0s - loss: 0.0469 - accuracy: 0.9811 - 52ms/epoch - 3ms/step\n",
      "Epoch 39/40\n",
      "19/19 - 0s - loss: 0.0454 - accuracy: 0.9794 - 47ms/epoch - 2ms/step\n",
      "Epoch 40/40\n",
      "19/19 - 0s - loss: 0.0429 - accuracy: 0.9811 - 53ms/epoch - 3ms/step\n"
     ]
    }
   ],
   "source": [
    "# fit network\n",
    "#history = cwe_469_model.fit(X_cwe_469_train, y_cwe_469_train, epochs=40, verbose=2)"
   ]
  },
  {
   "cell_type": "code",
   "execution_count": 15,
   "id": "486f7dab",
   "metadata": {
    "colab": {
     "base_uri": "https://localhost:8080/",
     "height": 346
    },
    "executionInfo": {
     "elapsed": 642,
     "status": "ok",
     "timestamp": 1651767954465,
     "user": {
      "displayName": "Pedro Alarcon Granadeno",
      "userId": "03221847207112830166"
     },
     "user_tz": 240
    },
    "id": "486f7dab",
    "outputId": "963657bd-dd93-493f-a803-5aa78df740b6"
   },
   "outputs": [
    {
     "name": "stdout",
     "output_type": "stream",
     "text": [
      "Test Accuracy: 63.07692527770996\n",
      "Generate a prediction\n",
      "prediction shape: (65,)\n"
     ]
    },
    {
     "data": {
      "image/png": "[encoded data removed]",
      "text/plain": [
       "<Figure size 432x288 with 1 Axes>"
      ]
     },
     "metadata": {
      "filenames": {
       "image/png": "/Users/tonyalarcon/sp22-paradigms/academic-portfolio/academic-porfolio/_build/jupyter_execute/vulnerability-prediction/MLP_17_1.png"
      },
      "needs_background": "light"
     },
     "output_type": "display_data"
    }
   ],
   "source": [
    "run_acccuracy(cwe_469_model, X_cwe_469_test, y_cwe_469_test)\n",
    "generate_roc_plot(cwe_469_model, X_cwe_469_test, y_cwe_469_test)"
   ]
  },
  {
   "cell_type": "code",
   "execution_count": null,
   "id": "bab9a142",
   "metadata": {
    "id": "bab9a142",
    "outputId": "2c495077-e397-4382-feeb-5100e90f4141"
   },
   "outputs": [
    {
     "name": "stdout",
     "output_type": "stream",
     "text": [
      "INFO:tensorflow:Assets written to: /scratch365/palarcon/Vulnerability Project/MLP/mlp_cwe_469_model.ph/assets\n"
     ]
    }
   ],
   "source": [
    "#cwe_469_model.save('/scratch365/palarcon/Vulnerability Project/MLP/mlp_cwe_469_model.ph')"
   ]
  },
  {
   "cell_type": "markdown",
   "id": "694e3251",
   "metadata": {
    "id": "694e3251"
   },
   "source": [
    "# CWE 476"
   ]
  },
  {
   "cell_type": "code",
   "execution_count": 16,
   "id": "58ae207f",
   "metadata": {
    "colab": {
     "base_uri": "https://localhost:8080/"
    },
    "executionInfo": {
     "elapsed": 3215,
     "status": "ok",
     "timestamp": 1651767973673,
     "user": {
      "displayName": "Pedro Alarcon Granadeno",
      "userId": "03221847207112830166"
     },
     "user_tz": 240
    },
    "id": "58ae207f",
    "outputId": "d0e9cdaa-dec9-418f-eba9-b1951298d622"
   },
   "outputs": [
    {
     "name": "stdout",
     "output_type": "stream",
     "text": [
      "Label Distribution: \n",
      "1    1174\n",
      "0    1174\n",
      "Name: CWE-476, dtype: int64\n",
      "Dataset: \n",
      "\n",
      "Shape of features: (2348, 1533) (# samples, # features, channel) of type <class 'numpy.ndarray'>\n",
      "Shape of labels: (2348,) (# samples, ) of type <class 'numpy.ndarray'>\n",
      "Model: \"sequential_4\"\n",
      "_________________________________________________________________\n",
      " Layer (type)                Output Shape              Param #   \n",
      "=================================================================\n",
      " dense_8 (Dense)             (None, 10)                15340     \n",
      "                                                                 \n",
      " dense_9 (Dense)             (None, 1)                 11        \n",
      "                                                                 \n",
      "=================================================================\n",
      "Total params: 15,351\n",
      "Trainable params: 15,351\n",
      "Non-trainable params: 0\n",
      "_________________________________________________________________\n"
     ]
    }
   ],
   "source": [
    "X_cwe_476_train, X_cwe_476_test, y_cwe_476_train, y_cwe_476_test = load_data(folder_path + 'cwe_476_train.csv', 'CWE-476', 40)\n",
    "cwe_476_model = mlp_model(1533)\n",
    "cwe_476_model = keras.models.load_model('/content/drive/MyDrive/Vulnerability Prediction/MLP/mlp_cwe_476_model.ph')"
   ]
  },
  {
   "cell_type": "code",
   "execution_count": null,
   "id": "3cf0c4a8",
   "metadata": {
    "id": "3cf0c4a8",
    "outputId": "f4971f9d-5f93-4392-dcee-0f576313ca7f"
   },
   "outputs": [
    {
     "name": "stdout",
     "output_type": "stream",
     "text": [
      "Epoch 1/30\n",
      "67/67 - 0s - loss: 0.2825 - accuracy: 0.9072 - 203ms/epoch - 3ms/step\n",
      "Epoch 2/30\n",
      "67/67 - 0s - loss: 0.2918 - accuracy: 0.9001 - 185ms/epoch - 3ms/step\n",
      "Epoch 3/30\n",
      "67/67 - 0s - loss: 0.2633 - accuracy: 0.9158 - 188ms/epoch - 3ms/step\n",
      "Epoch 4/30\n",
      "67/67 - 0s - loss: 0.2516 - accuracy: 0.9248 - 189ms/epoch - 3ms/step\n",
      "Epoch 5/30\n",
      "67/67 - 0s - loss: 0.2505 - accuracy: 0.9224 - 192ms/epoch - 3ms/step\n",
      "Epoch 6/30\n",
      "67/67 - 0s - loss: 0.2934 - accuracy: 0.9186 - 182ms/epoch - 3ms/step\n",
      "Epoch 7/30\n",
      "67/67 - 0s - loss: 0.2865 - accuracy: 0.9158 - 185ms/epoch - 3ms/step\n",
      "Epoch 8/30\n",
      "67/67 - 0s - loss: 0.2504 - accuracy: 0.9191 - 180ms/epoch - 3ms/step\n",
      "Epoch 9/30\n",
      "67/67 - 0s - loss: 0.2432 - accuracy: 0.9153 - 192ms/epoch - 3ms/step\n",
      "Epoch 10/30\n",
      "67/67 - 0s - loss: 0.2281 - accuracy: 0.9229 - 184ms/epoch - 3ms/step\n",
      "Epoch 11/30\n",
      "67/67 - 0s - loss: 0.2224 - accuracy: 0.9276 - 173ms/epoch - 3ms/step\n",
      "Epoch 12/30\n",
      "67/67 - 0s - loss: 0.2139 - accuracy: 0.9219 - 171ms/epoch - 3ms/step\n",
      "Epoch 13/30\n",
      "67/67 - 0s - loss: 0.2138 - accuracy: 0.9233 - 184ms/epoch - 3ms/step\n",
      "Epoch 14/30\n",
      "67/67 - 0s - loss: 0.2001 - accuracy: 0.9295 - 191ms/epoch - 3ms/step\n",
      "Epoch 15/30\n",
      "67/67 - 0s - loss: 0.2097 - accuracy: 0.9219 - 188ms/epoch - 3ms/step\n",
      "Epoch 16/30\n",
      "67/67 - 0s - loss: 0.1924 - accuracy: 0.9276 - 187ms/epoch - 3ms/step\n",
      "Epoch 17/30\n",
      "67/67 - 0s - loss: 0.1873 - accuracy: 0.9295 - 194ms/epoch - 3ms/step\n",
      "Epoch 18/30\n",
      "67/67 - 0s - loss: 0.1988 - accuracy: 0.9333 - 186ms/epoch - 3ms/step\n",
      "Epoch 19/30\n",
      "67/67 - 0s - loss: 0.1816 - accuracy: 0.9300 - 186ms/epoch - 3ms/step\n",
      "Epoch 20/30\n",
      "67/67 - 0s - loss: 0.2288 - accuracy: 0.9148 - 184ms/epoch - 3ms/step\n",
      "Epoch 21/30\n",
      "67/67 - 0s - loss: 0.1901 - accuracy: 0.9333 - 183ms/epoch - 3ms/step\n",
      "Epoch 22/30\n",
      "67/67 - 0s - loss: 0.2120 - accuracy: 0.9124 - 192ms/epoch - 3ms/step\n",
      "Epoch 23/30\n",
      "67/67 - 0s - loss: 0.1739 - accuracy: 0.9375 - 192ms/epoch - 3ms/step\n",
      "Epoch 24/30\n",
      "67/67 - 0s - loss: 0.1804 - accuracy: 0.9328 - 185ms/epoch - 3ms/step\n",
      "Epoch 25/30\n",
      "67/67 - 0s - loss: 0.1706 - accuracy: 0.9361 - 177ms/epoch - 3ms/step\n",
      "Epoch 26/30\n",
      "67/67 - 0s - loss: 0.1631 - accuracy: 0.9399 - 179ms/epoch - 3ms/step\n",
      "Epoch 27/30\n",
      "67/67 - 0s - loss: 0.1628 - accuracy: 0.9361 - 172ms/epoch - 3ms/step\n",
      "Epoch 28/30\n",
      "67/67 - 0s - loss: 0.1533 - accuracy: 0.9442 - 168ms/epoch - 3ms/step\n",
      "Epoch 29/30\n",
      "67/67 - 0s - loss: 0.1671 - accuracy: 0.9356 - 166ms/epoch - 2ms/step\n",
      "Epoch 30/30\n",
      "67/67 - 0s - loss: 0.1517 - accuracy: 0.9432 - 169ms/epoch - 3ms/step\n"
     ]
    }
   ],
   "source": [
    "# fit network\n",
    "#history = cwe_476_model.fit(X_cwe_476_train, y_cwe_476_train, epochs=30, verbose=2)"
   ]
  },
  {
   "cell_type": "code",
   "execution_count": 17,
   "id": "7fc1d0dd",
   "metadata": {
    "colab": {
     "base_uri": "https://localhost:8080/",
     "height": 346
    },
    "executionInfo": {
     "elapsed": 583,
     "status": "ok",
     "timestamp": 1651767982129,
     "user": {
      "displayName": "Pedro Alarcon Granadeno",
      "userId": "03221847207112830166"
     },
     "user_tz": 240
    },
    "id": "7fc1d0dd",
    "outputId": "7004130e-e566-42cc-d1b1-f306acae5405"
   },
   "outputs": [
    {
     "name": "stdout",
     "output_type": "stream",
     "text": [
      "Test Accuracy: 85.53191423416138\n",
      "Generate a prediction\n",
      "prediction shape: (235,)\n"
     ]
    },
    {
     "data": {
      "image/png": "[encoded data removed]",
      "text/plain": [
       "<Figure size 432x288 with 1 Axes>"
      ]
     },
     "metadata": {
      "filenames": {
       "image/png": "/Users/tonyalarcon/sp22-paradigms/academic-portfolio/academic-porfolio/_build/jupyter_execute/vulnerability-prediction/MLP_22_1.png"
      },
      "needs_background": "light"
     },
     "output_type": "display_data"
    }
   ],
   "source": [
    "run_acccuracy(cwe_476_model, X_cwe_476_test, y_cwe_476_test)\n",
    "generate_roc_plot(cwe_476_model, X_cwe_476_test, y_cwe_476_test)"
   ]
  },
  {
   "cell_type": "code",
   "execution_count": null,
   "id": "3582e0c4",
   "metadata": {
    "id": "3582e0c4",
    "outputId": "20568844-3440-42dc-9748-fb6d2fbc5691"
   },
   "outputs": [
    {
     "name": "stdout",
     "output_type": "stream",
     "text": [
      "INFO:tensorflow:Assets written to: /scratch365/palarcon/Vulnerability Project/MLP/mlp_cwe_476_model.ph/assets\n"
     ]
    }
   ],
   "source": [
    "#cwe_476_model.save('/scratch365/palarcon/Vulnerability Project/MLP/mlp_cwe_476_model.ph')"
   ]
  },
  {
   "cell_type": "markdown",
   "id": "9e95f453",
   "metadata": {
    "id": "9e95f453"
   },
   "source": [
    "# CWE Other"
   ]
  },
  {
   "cell_type": "code",
   "execution_count": 18,
   "id": "b339b603",
   "metadata": {
    "colab": {
     "base_uri": "https://localhost:8080/"
    },
    "executionInfo": {
     "elapsed": 2228,
     "status": "ok",
     "timestamp": 1651768000512,
     "user": {
      "displayName": "Pedro Alarcon Granadeno",
      "userId": "03221847207112830166"
     },
     "user_tz": 240
    },
    "id": "b339b603",
    "outputId": "13357f36-7034-4662-cfa3-b0832148b5f2"
   },
   "outputs": [
    {
     "name": "stdout",
     "output_type": "stream",
     "text": [
      "Label Distribution: \n",
      "1    3314\n",
      "0    3314\n",
      "Name: CWE-other, dtype: int64\n",
      "Dataset: \n",
      "\n",
      "Shape of features: (6628, 1533) (# samples, # features, channel) of type <class 'numpy.ndarray'>\n",
      "Shape of labels: (6628,) (# samples, ) of type <class 'numpy.ndarray'>\n",
      "Model: \"sequential_5\"\n",
      "_________________________________________________________________\n",
      " Layer (type)                Output Shape              Param #   \n",
      "=================================================================\n",
      " dense_10 (Dense)            (None, 10)                15340     \n",
      "                                                                 \n",
      " dense_11 (Dense)            (None, 1)                 11        \n",
      "                                                                 \n",
      "=================================================================\n",
      "Total params: 15,351\n",
      "Trainable params: 15,351\n",
      "Non-trainable params: 0\n",
      "_________________________________________________________________\n"
     ]
    }
   ],
   "source": [
    "X_cwe_other_train, X_cwe_other_test, y_cwe_other_train, y_cwe_other_test = load_data(folder_path + 'cwe_other_train.csv', 'CWE-other', 40)\n",
    "cwe_other_model = mlp_model(1533)\n",
    "cwe_other_model = keras.models.load_model('/content/drive/MyDrive/Vulnerability Prediction/MLP/mlp_cwe_120_model.ph')"
   ]
  },
  {
   "cell_type": "code",
   "execution_count": 19,
   "id": "a7814a6f",
   "metadata": {
    "colab": {
     "base_uri": "https://localhost:8080/"
    },
    "executionInfo": {
     "elapsed": 11633,
     "status": "ok",
     "timestamp": 1651768023610,
     "user": {
      "displayName": "Pedro Alarcon Granadeno",
      "userId": "03221847207112830166"
     },
     "user_tz": 240
    },
    "id": "a7814a6f",
    "outputId": "8a02e110-c517-486c-e75f-116ad08147d3"
   },
   "outputs": [
    {
     "name": "stdout",
     "output_type": "stream",
     "text": [
      "Epoch 1/30\n",
      "187/187 - 1s - loss: 103.1153 - accuracy: 0.5656 - 911ms/epoch - 5ms/step\n",
      "Epoch 2/30\n",
      "187/187 - 0s - loss: 35.3338 - accuracy: 0.5982 - 356ms/epoch - 2ms/step\n",
      "Epoch 3/30\n",
      "187/187 - 0s - loss: 17.6765 - accuracy: 0.6050 - 343ms/epoch - 2ms/step\n",
      "Epoch 4/30\n",
      "187/187 - 0s - loss: 9.2168 - accuracy: 0.5953 - 356ms/epoch - 2ms/step\n",
      "Epoch 5/30\n",
      "187/187 - 0s - loss: 4.9260 - accuracy: 0.5666 - 353ms/epoch - 2ms/step\n",
      "Epoch 6/30\n",
      "187/187 - 0s - loss: 2.6959 - accuracy: 0.5531 - 345ms/epoch - 2ms/step\n",
      "Epoch 7/30\n",
      "187/187 - 0s - loss: 1.6527 - accuracy: 0.5393 - 350ms/epoch - 2ms/step\n",
      "Epoch 8/30\n",
      "187/187 - 0s - loss: 1.3591 - accuracy: 0.5393 - 363ms/epoch - 2ms/step\n",
      "Epoch 9/30\n",
      "187/187 - 0s - loss: 1.0347 - accuracy: 0.5375 - 363ms/epoch - 2ms/step\n",
      "Epoch 10/30\n",
      "187/187 - 0s - loss: 0.9067 - accuracy: 0.5360 - 350ms/epoch - 2ms/step\n",
      "Epoch 11/30\n",
      "187/187 - 0s - loss: 1.0373 - accuracy: 0.5311 - 334ms/epoch - 2ms/step\n",
      "Epoch 12/30\n",
      "187/187 - 0s - loss: 0.7957 - accuracy: 0.5400 - 365ms/epoch - 2ms/step\n",
      "Epoch 13/30\n",
      "187/187 - 0s - loss: 0.7903 - accuracy: 0.5420 - 372ms/epoch - 2ms/step\n",
      "Epoch 14/30\n",
      "187/187 - 0s - loss: 0.7751 - accuracy: 0.5408 - 358ms/epoch - 2ms/step\n",
      "Epoch 15/30\n",
      "187/187 - 0s - loss: 0.8348 - accuracy: 0.5403 - 375ms/epoch - 2ms/step\n",
      "Epoch 16/30\n",
      "187/187 - 0s - loss: 0.7087 - accuracy: 0.5396 - 375ms/epoch - 2ms/step\n",
      "Epoch 17/30\n",
      "187/187 - 0s - loss: 0.6882 - accuracy: 0.5423 - 350ms/epoch - 2ms/step\n",
      "Epoch 18/30\n",
      "187/187 - 0s - loss: 0.6881 - accuracy: 0.5432 - 355ms/epoch - 2ms/step\n",
      "Epoch 19/30\n",
      "187/187 - 0s - loss: 0.6865 - accuracy: 0.5423 - 365ms/epoch - 2ms/step\n",
      "Epoch 20/30\n",
      "187/187 - 0s - loss: 0.7105 - accuracy: 0.5422 - 367ms/epoch - 2ms/step\n",
      "Epoch 21/30\n",
      "187/187 - 0s - loss: 0.8024 - accuracy: 0.5408 - 373ms/epoch - 2ms/step\n",
      "Epoch 22/30\n",
      "187/187 - 0s - loss: 0.6649 - accuracy: 0.5405 - 340ms/epoch - 2ms/step\n",
      "Epoch 23/30\n",
      "187/187 - 0s - loss: 0.6566 - accuracy: 0.5400 - 352ms/epoch - 2ms/step\n",
      "Epoch 24/30\n",
      "187/187 - 0s - loss: 0.7307 - accuracy: 0.5378 - 363ms/epoch - 2ms/step\n",
      "Epoch 25/30\n",
      "187/187 - 0s - loss: 0.7508 - accuracy: 0.5361 - 377ms/epoch - 2ms/step\n",
      "Epoch 26/30\n",
      "187/187 - 0s - loss: 0.8446 - accuracy: 0.5343 - 348ms/epoch - 2ms/step\n",
      "Epoch 27/30\n",
      "187/187 - 0s - loss: 0.7018 - accuracy: 0.5323 - 369ms/epoch - 2ms/step\n",
      "Epoch 28/30\n",
      "187/187 - 0s - loss: 0.7039 - accuracy: 0.5306 - 372ms/epoch - 2ms/step\n",
      "Epoch 29/30\n",
      "187/187 - 0s - loss: 0.7850 - accuracy: 0.5281 - 382ms/epoch - 2ms/step\n",
      "Epoch 30/30\n",
      "187/187 - 0s - loss: 0.7053 - accuracy: 0.5293 - 370ms/epoch - 2ms/step\n"
     ]
    }
   ],
   "source": [
    "# fit network\n",
    "history = cwe_other_model.fit(X_cwe_other_train, y_cwe_other_train, epochs=30, verbose=2)"
   ]
  },
  {
   "cell_type": "code",
   "execution_count": 20,
   "id": "ae885e91",
   "metadata": {
    "colab": {
     "base_uri": "https://localhost:8080/",
     "height": 346
    },
    "executionInfo": {
     "elapsed": 655,
     "status": "ok",
     "timestamp": 1651768028304,
     "user": {
      "displayName": "Pedro Alarcon Granadeno",
      "userId": "03221847207112830166"
     },
     "user_tz": 240
    },
    "id": "ae885e91",
    "outputId": "ef9f2320-1fc6-4bf8-c638-561d56c7a5bc"
   },
   "outputs": [
    {
     "name": "stdout",
     "output_type": "stream",
     "text": [
      "Test Accuracy: 53.99698615074158\n",
      "Generate a prediction\n",
      "prediction shape: (663,)\n"
     ]
    },
    {
     "data": {
      "image/png": "[encoded data removed]",
      "text/plain": [
       "<Figure size 432x288 with 1 Axes>"
      ]
     },
     "metadata": {
      "filenames": {
       "image/png": "/Users/tonyalarcon/sp22-paradigms/academic-portfolio/academic-porfolio/_build/jupyter_execute/vulnerability-prediction/MLP_27_1.png"
      },
      "needs_background": "light"
     },
     "output_type": "display_data"
    }
   ],
   "source": [
    "run_acccuracy(cwe_other_model, X_cwe_other_test, y_cwe_other_test)\n",
    "generate_roc_plot(cwe_other_model, X_cwe_other_test, y_cwe_other_test)"
   ]
  },
  {
   "cell_type": "code",
   "execution_count": 21,
   "id": "MLBZalB5DDGg",
   "metadata": {
    "colab": {
     "base_uri": "https://localhost:8080/"
    },
    "executionInfo": {
     "elapsed": 763,
     "status": "ok",
     "timestamp": 1651768082539,
     "user": {
      "displayName": "Pedro Alarcon Granadeno",
      "userId": "03221847207112830166"
     },
     "user_tz": 240
    },
    "id": "MLBZalB5DDGg",
    "outputId": "3f424520-761a-4ace-9654-df2d12daefed"
   },
   "outputs": [
    {
     "name": "stdout",
     "output_type": "stream",
     "text": [
      "INFO:tensorflow:Assets written to: /content/drive/MyDrive/Vulnerability Prediction/MLP/mlp_cwe_120_model.ph/assets\n"
     ]
    }
   ],
   "source": [
    "#cwe_other_model.save('/content/drive/MyDrive/Vulnerability Prediction/MLP/mlp_cwe_120_model.ph')"
   ]
  },
  {
   "cell_type": "markdown",
   "id": "dc7e2960",
   "metadata": {
    "id": "dc7e2960"
   },
   "source": [
    "# Inference and Validation"
   ]
  },
  {
   "cell_type": "code",
   "execution_count": null,
   "id": "7a1fcfcd",
   "metadata": {
    "id": "7a1fcfcd"
   },
   "outputs": [],
   "source": [
    "def generate_roc_plots(models, x_test, y_test, names):\n",
    "  # Generate a prediction using model.predict() \n",
    "  # and calculate it's shape:\n",
    "    \n",
    "    fpr, tpr, aucs = [], [], []\n",
    "    \n",
    "    #Generate a prediction\n",
    "    for i in range(len(models)):\n",
    "        model = models[i]\n",
    "        pred = model.predict(x_test[i]).ravel()\n",
    "        \n",
    "        fpr_keras, tpr_keras, thresholds_keras = roc_curve(y_test[i], pred)\n",
    "        auc_keras = auc(fpr_keras, tpr_keras)\n",
    "        \n",
    "        fpr.append(fpr_keras)\n",
    "        tpr.append(tpr_keras)\n",
    "        aucs.append(auc_keras)\n",
    "\n",
    "    \n",
    "    #generate plot\n",
    "    plt.figure(figsize=(9,9))\n",
    "    plt.plot([0, 1], [0, 1], 'k--')\n",
    "    for i in range(len(models)):\n",
    "        plt.plot(fpr[i], tpr[i], label=' {} (area = {:.3f})'.format(names[i],aucs[i]))\n",
    "    \n",
    "    plt.xlabel('False Positive Rate')\n",
    "    plt.ylabel('True Positive Rate')\n",
    "    plt.title('ROC curve')\n",
    "    plt.legend(loc='best')\n",
    "    plt.show()"
   ]
  },
  {
   "cell_type": "code",
   "execution_count": null,
   "id": "504631dc",
   "metadata": {
    "id": "504631dc",
    "outputId": "ead01f72-9e62-45b1-a363-2002fef12fa5"
   },
   "outputs": [
    {
     "data": {
      "image/png": "[encoded data removed]",
      "text/plain": [
       "<Figure size 648x648 with 1 Axes>"
      ]
     },
     "metadata": {
      "filenames": {
       "image/png": "/Users/tonyalarcon/sp22-paradigms/academic-portfolio/academic-porfolio/_build/jupyter_execute/vulnerability-prediction/MLP_31_0.png"
      },
      "needs_background": "light"
     },
     "output_type": "display_data"
    }
   ],
   "source": [
    "mod = [mlp_cwe_119, cwe_other_model, cwe_120_model, cwe_469_model, cwe_476_model]\n",
    "x_tests = [X_cwe_119_test, X_cwe_other_test, X_cwe_120_test, X_cwe_469_test, X_cwe_476_test]\n",
    "y_tests = [y_cwe_119_test, y_cwe_other_test, y_cwe_120_test, y_cwe_469_test, y_cwe_476_test]\n",
    "names = ['CWE-119', 'CWE-Oth', 'CWE-120', 'CWE-469','CWE-476']\n",
    "generate_roc_plots(mod, x_tests, y_tests, names)"
   ]
  },
  {
   "cell_type": "code",
   "execution_count": null,
   "id": "06880812",
   "metadata": {
    "id": "06880812"
   },
   "outputs": [],
   "source": [
    "def classificationReport(model, X, y):\n",
    "    # make a prediction on the test set\n",
    "    yhat = model.predict(X)\n",
    "    # round probabilities to class labels\n",
    "    yhat = yhat.round()\n",
    "    \n",
    "    print(classification_report(y, yhat))"
   ]
  },
  {
   "cell_type": "code",
   "execution_count": null,
   "id": "20539544",
   "metadata": {
    "id": "20539544",
    "outputId": "223ee470-5a61-4d29-9bae-c92bb6b883d3"
   },
   "outputs": [
    {
     "name": "stdout",
     "output_type": "stream",
     "text": [
      "CWE-119\n",
      "              precision    recall  f1-score   support\n",
      "\n",
      "           0       0.91      0.82      0.86       255\n",
      "           1       0.85      0.93      0.89       287\n",
      "\n",
      "    accuracy                           0.88       542\n",
      "   macro avg       0.88      0.87      0.88       542\n",
      "weighted avg       0.88      0.88      0.88       542\n",
      "\n",
      "CWE-Oth\n",
      "              precision    recall  f1-score   support\n",
      "\n",
      "           0       0.53      0.99      0.69       349\n",
      "           1       0.64      0.02      0.04       314\n",
      "\n",
      "    accuracy                           0.53       663\n",
      "   macro avg       0.58      0.51      0.37       663\n",
      "weighted avg       0.58      0.53      0.38       663\n",
      "\n",
      "CWE-120\n",
      "              precision    recall  f1-score   support\n",
      "\n",
      "           0       0.85      0.90      0.87       500\n",
      "           1       0.90      0.85      0.87       532\n",
      "\n",
      "    accuracy                           0.87      1032\n",
      "   macro avg       0.87      0.87      0.87      1032\n",
      "weighted avg       0.88      0.87      0.87      1032\n",
      "\n",
      "CWE-469\n",
      "              precision    recall  f1-score   support\n",
      "\n",
      "           0       0.57      0.57      0.57        28\n",
      "           1       0.68      0.68      0.68        37\n",
      "\n",
      "    accuracy                           0.63        65\n",
      "   macro avg       0.62      0.62      0.62        65\n",
      "weighted avg       0.63      0.63      0.63        65\n",
      "\n",
      "CWE-476\n",
      "              precision    recall  f1-score   support\n",
      "\n",
      "           0       0.89      0.84      0.86       128\n",
      "           1       0.82      0.87      0.85       107\n",
      "\n",
      "    accuracy                           0.86       235\n",
      "   macro avg       0.85      0.86      0.85       235\n",
      "weighted avg       0.86      0.86      0.86       235\n",
      "\n"
     ]
    }
   ],
   "source": [
    "for i in range(len(mod)):\n",
    "    print(names[i])\n",
    "    classificationReport(mod[i], x_tests[i], y_tests[i])"
   ]
  },
  {
   "cell_type": "code",
   "execution_count": null,
   "id": "6cd430af",
   "metadata": {
    "id": "6cd430af"
   },
   "outputs": [],
   "source": []
  }
 ],
 "metadata": {
  "colab": {
   "name": "MLP.ipynb",
   "provenance": []
  },
  "interpreter": {
   "hash": "92829e2fac57cbff12d0f5f666c000e50d10f2158a7e425f09180d35edebd327"
  },
  "kernelspec": {
   "display_name": "Python 3.8.8 ('base')",
   "language": "python",
   "name": "python3"
  },
  "language_info": {
   "codemirror_mode": {
    "name": "ipython",
    "version": 3
   },
   "file_extension": ".py",
   "mimetype": "text/x-python",
   "name": "python",
   "nbconvert_exporter": "python",
   "pygments_lexer": "ipython3",
   "version": "3.8.8"
  }
 },
 "nbformat": 4,
 "nbformat_minor": 5
}